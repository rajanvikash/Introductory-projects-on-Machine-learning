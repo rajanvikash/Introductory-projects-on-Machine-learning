{
 "cells": [
  {
   "cell_type": "code",
   "execution_count": 1,
   "id": "1ca2f431",
   "metadata": {},
   "outputs": [],
   "source": [
    "import pandas as pd \n",
    "from sklearn.model_selection import train_test_split"
   ]
  },
  {
   "cell_type": "code",
   "execution_count": 4,
   "id": "adc43327",
   "metadata": {
    "scrolled": false
   },
   "outputs": [
    {
     "data": {
      "text/html": [
       "<div>\n",
       "<style scoped>\n",
       "    .dataframe tbody tr th:only-of-type {\n",
       "        vertical-align: middle;\n",
       "    }\n",
       "\n",
       "    .dataframe tbody tr th {\n",
       "        vertical-align: top;\n",
       "    }\n",
       "\n",
       "    .dataframe thead th {\n",
       "        text-align: right;\n",
       "    }\n",
       "</style>\n",
       "<table border=\"1\" class=\"dataframe\">\n",
       "  <thead>\n",
       "    <tr style=\"text-align: right;\">\n",
       "      <th></th>\n",
       "      <th>Category</th>\n",
       "      <th>Message</th>\n",
       "    </tr>\n",
       "  </thead>\n",
       "  <tbody>\n",
       "    <tr>\n",
       "      <th>0</th>\n",
       "      <td>ham</td>\n",
       "      <td>Go until jurong point, crazy.. Available only ...</td>\n",
       "    </tr>\n",
       "    <tr>\n",
       "      <th>1</th>\n",
       "      <td>ham</td>\n",
       "      <td>Ok lar... Joking wif u oni...</td>\n",
       "    </tr>\n",
       "    <tr>\n",
       "      <th>2</th>\n",
       "      <td>spam</td>\n",
       "      <td>Free entry in 2 a wkly comp to win FA Cup fina...</td>\n",
       "    </tr>\n",
       "    <tr>\n",
       "      <th>3</th>\n",
       "      <td>ham</td>\n",
       "      <td>U dun say so early hor... U c already then say...</td>\n",
       "    </tr>\n",
       "    <tr>\n",
       "      <th>4</th>\n",
       "      <td>ham</td>\n",
       "      <td>Nah I don't think he goes to usf, he lives aro...</td>\n",
       "    </tr>\n",
       "  </tbody>\n",
       "</table>\n",
       "</div>"
      ],
      "text/plain": [
       "  Category                                            Message\n",
       "0      ham  Go until jurong point, crazy.. Available only ...\n",
       "1      ham                      Ok lar... Joking wif u oni...\n",
       "2     spam  Free entry in 2 a wkly comp to win FA Cup fina...\n",
       "3      ham  U dun say so early hor... U c already then say...\n",
       "4      ham  Nah I don't think he goes to usf, he lives aro..."
      ]
     },
     "execution_count": 4,
     "metadata": {},
     "output_type": "execute_result"
    }
   ],
   "source": [
    "df = pd.read_csv(\"C:\\\\Users\\\\rajan\\\\Downloads\\\\spam.csv\")\n",
    "df.head()"
   ]
  },
  {
   "cell_type": "code",
   "execution_count": 5,
   "id": "82935a64",
   "metadata": {},
   "outputs": [
    {
     "data": {
      "text/plain": [
       "Category    0\n",
       "Message     0\n",
       "dtype: int64"
      ]
     },
     "execution_count": 5,
     "metadata": {},
     "output_type": "execute_result"
    }
   ],
   "source": [
    "df.isnull().sum()"
   ]
  },
  {
   "cell_type": "code",
   "execution_count": 3,
   "id": "861ed763",
   "metadata": {
    "scrolled": true
   },
   "outputs": [
    {
     "data": {
      "text/html": [
       "<div>\n",
       "<style scoped>\n",
       "    .dataframe tbody tr th:only-of-type {\n",
       "        vertical-align: middle;\n",
       "    }\n",
       "\n",
       "    .dataframe tbody tr th {\n",
       "        vertical-align: top;\n",
       "    }\n",
       "\n",
       "    .dataframe thead th {\n",
       "        text-align: right;\n",
       "    }\n",
       "</style>\n",
       "<table border=\"1\" class=\"dataframe\">\n",
       "  <thead>\n",
       "    <tr style=\"text-align: right;\">\n",
       "      <th></th>\n",
       "      <th>Category</th>\n",
       "      <th>Message</th>\n",
       "      <th>label</th>\n",
       "    </tr>\n",
       "  </thead>\n",
       "  <tbody>\n",
       "    <tr>\n",
       "      <th>0</th>\n",
       "      <td>ham</td>\n",
       "      <td>Go until jurong point, crazy.. Available only ...</td>\n",
       "      <td>0</td>\n",
       "    </tr>\n",
       "    <tr>\n",
       "      <th>1</th>\n",
       "      <td>ham</td>\n",
       "      <td>Ok lar... Joking wif u oni...</td>\n",
       "      <td>0</td>\n",
       "    </tr>\n",
       "    <tr>\n",
       "      <th>2</th>\n",
       "      <td>spam</td>\n",
       "      <td>Free entry in 2 a wkly comp to win FA Cup fina...</td>\n",
       "      <td>1</td>\n",
       "    </tr>\n",
       "    <tr>\n",
       "      <th>3</th>\n",
       "      <td>ham</td>\n",
       "      <td>U dun say so early hor... U c already then say...</td>\n",
       "      <td>0</td>\n",
       "    </tr>\n",
       "    <tr>\n",
       "      <th>4</th>\n",
       "      <td>ham</td>\n",
       "      <td>Nah I don't think he goes to usf, he lives aro...</td>\n",
       "      <td>0</td>\n",
       "    </tr>\n",
       "  </tbody>\n",
       "</table>\n",
       "</div>"
      ],
      "text/plain": [
       "  Category                                            Message  label\n",
       "0      ham  Go until jurong point, crazy.. Available only ...      0\n",
       "1      ham                      Ok lar... Joking wif u oni...      0\n",
       "2     spam  Free entry in 2 a wkly comp to win FA Cup fina...      1\n",
       "3      ham  U dun say so early hor... U c already then say...      0\n",
       "4      ham  Nah I don't think he goes to usf, he lives aro...      0"
      ]
     },
     "execution_count": 3,
     "metadata": {},
     "output_type": "execute_result"
    }
   ],
   "source": [
    "df['label'] = df.Category.apply(lambda x : 1 if x == 'spam' else 0)\n",
    "df.head()"
   ]
  },
  {
   "cell_type": "code",
   "execution_count": 4,
   "id": "02c92c96",
   "metadata": {},
   "outputs": [],
   "source": [
    "df.drop('Category' , axis = 1  , inplace = True)"
   ]
  },
  {
   "cell_type": "code",
   "execution_count": 5,
   "id": "c0c36330",
   "metadata": {
    "scrolled": true
   },
   "outputs": [
    {
     "data": {
      "text/html": [
       "<div>\n",
       "<style scoped>\n",
       "    .dataframe tbody tr th:only-of-type {\n",
       "        vertical-align: middle;\n",
       "    }\n",
       "\n",
       "    .dataframe tbody tr th {\n",
       "        vertical-align: top;\n",
       "    }\n",
       "\n",
       "    .dataframe thead th {\n",
       "        text-align: right;\n",
       "    }\n",
       "</style>\n",
       "<table border=\"1\" class=\"dataframe\">\n",
       "  <thead>\n",
       "    <tr style=\"text-align: right;\">\n",
       "      <th></th>\n",
       "      <th>Message</th>\n",
       "      <th>label</th>\n",
       "    </tr>\n",
       "  </thead>\n",
       "  <tbody>\n",
       "    <tr>\n",
       "      <th>0</th>\n",
       "      <td>Go until jurong point, crazy.. Available only ...</td>\n",
       "      <td>0</td>\n",
       "    </tr>\n",
       "    <tr>\n",
       "      <th>1</th>\n",
       "      <td>Ok lar... Joking wif u oni...</td>\n",
       "      <td>0</td>\n",
       "    </tr>\n",
       "    <tr>\n",
       "      <th>2</th>\n",
       "      <td>Free entry in 2 a wkly comp to win FA Cup fina...</td>\n",
       "      <td>1</td>\n",
       "    </tr>\n",
       "    <tr>\n",
       "      <th>3</th>\n",
       "      <td>U dun say so early hor... U c already then say...</td>\n",
       "      <td>0</td>\n",
       "    </tr>\n",
       "    <tr>\n",
       "      <th>4</th>\n",
       "      <td>Nah I don't think he goes to usf, he lives aro...</td>\n",
       "      <td>0</td>\n",
       "    </tr>\n",
       "  </tbody>\n",
       "</table>\n",
       "</div>"
      ],
      "text/plain": [
       "                                             Message  label\n",
       "0  Go until jurong point, crazy.. Available only ...      0\n",
       "1                      Ok lar... Joking wif u oni...      0\n",
       "2  Free entry in 2 a wkly comp to win FA Cup fina...      1\n",
       "3  U dun say so early hor... U c already then say...      0\n",
       "4  Nah I don't think he goes to usf, he lives aro...      0"
      ]
     },
     "execution_count": 5,
     "metadata": {},
     "output_type": "execute_result"
    }
   ],
   "source": [
    "df.head()"
   ]
  },
  {
   "cell_type": "code",
   "execution_count": 6,
   "id": "f2a356af",
   "metadata": {},
   "outputs": [],
   "source": [
    "from sklearn.model_selection import train_test_split\n",
    "x_train , x_test , y_train , y_test = train_test_split(df.Message , df.label , test_size=0.25)"
   ]
  },
  {
   "cell_type": "code",
   "execution_count": null,
   "id": "790d9dad",
   "metadata": {},
   "outputs": [],
   "source": []
  },
  {
   "cell_type": "code",
   "execution_count": 9,
   "id": "d5fc0700",
   "metadata": {
    "scrolled": true
   },
   "outputs": [
    {
     "data": {
      "text/plain": [
       "array([\"(You didn't hear it from me)\", \"I'm awake oh. What's up.\",\n",
       "       \"Whenevr ur sad, Whenevr ur gray, Remembr im here 2 listn 2 watevr u wanna say, Jus walk wid me a little while,&amp; I promise I'll bring back ur smile.:-)\",\n",
       "       ..., 'K do I need a login or anything',\n",
       "       'LOL ... Have you made plans for new years?',\n",
       "       'Huh means computational science... Y they like dat one push here n there...'],\n",
       "      dtype=object)"
      ]
     },
     "execution_count": 9,
     "metadata": {},
     "output_type": "execute_result"
    }
   ],
   "source": [
    "x_train.values"
   ]
  },
  {
   "cell_type": "code",
   "execution_count": 14,
   "id": "60690a89",
   "metadata": {
    "scrolled": true
   },
   "outputs": [
    {
     "data": {
      "text/plain": [
       "5038                         (You didn't hear it from me)\n",
       "4561                             I'm awake oh. What's up.\n",
       "1316    Whenevr ur sad, Whenevr ur gray, Remembr im he...\n",
       "1827    Dude. What's up. How Teresa. Hope you have bee...\n",
       "3570                      She's fine. Sends her greetings\n",
       "                              ...                        \n",
       "123     Todays Voda numbers ending 7548 are selected t...\n",
       "1438    Wat so late still early mah. Or we juz go 4 di...\n",
       "1136                      K do I need a login or anything\n",
       "449            LOL ... Have you made plans for new years?\n",
       "2416    Huh means computational science... Y they like...\n",
       "Name: Message, Length: 4179, dtype: object"
      ]
     },
     "execution_count": 14,
     "metadata": {},
     "output_type": "execute_result"
    }
   ],
   "source": [
    "x_train"
   ]
  },
  {
   "cell_type": "code",
   "execution_count": 15,
   "id": "9470a275",
   "metadata": {},
   "outputs": [
    {
     "data": {
      "text/plain": [
       "(numpy.ndarray, pandas.core.series.Series)"
      ]
     },
     "execution_count": 15,
     "metadata": {},
     "output_type": "execute_result"
    }
   ],
   "source": [
    "type(x_train.values) , type(x_train)"
   ]
  },
  {
   "cell_type": "code",
   "execution_count": 10,
   "id": "466d6722",
   "metadata": {},
   "outputs": [],
   "source": [
    "from sklearn.feature_extraction.text import CountVectorizer\n",
    "v = CountVectorizer()\n",
    "x_train_count = v.fit_transform(x_train.values)"
   ]
  },
  {
   "cell_type": "code",
   "execution_count": 13,
   "id": "9263821f",
   "metadata": {
    "scrolled": true
   },
   "outputs": [
    {
     "data": {
      "text/plain": [
       "array([[0, 0, 0, ..., 0, 0, 0],\n",
       "       [0, 0, 0, ..., 0, 0, 0],\n",
       "       [0, 0, 0, ..., 0, 0, 0]], dtype=int64)"
      ]
     },
     "execution_count": 13,
     "metadata": {},
     "output_type": "execute_result"
    }
   ],
   "source": [
    "x_train_count.toarray()[:3]"
   ]
  },
  {
   "cell_type": "code",
   "execution_count": 17,
   "id": "51dca4e0",
   "metadata": {
    "collapsed": true
   },
   "outputs": [
    {
     "name": "stdout",
     "output_type": "stream",
     "text": [
      "['00', '000', '000pes', '008704050406', '0089', '0121', '01223585236', '01223585334', '0125698789', '02', '0207', '02072069400', '02073162414', '02085076972', '021', '03', '04', '0430', '05', '050703', '0578', '06', '07', '07008009200', '07090298926', '07099833605', '07123456789', '07732584351', '07734396839', '07742676969', '0776xxxxxxx', '07781482378', '077xxx', '078', '07801543489', '07808', '07815296484', '07821230901', '078498', '07880867867', '0789xxxxxxx', '07946746291', '0796xxxxxx', '07973788240', '07xxxxxxxxx', '08', '0800', '08000407165', '08000776320', '08000839402', '08000930705', '08000938767', '08001950382', '08002888812', '08002986030', '08002986906', '08002988890', '08006344447', '0808', '08081263000', '0825', '083', '0844', '08448350055', '0845', '08450542832', '08452810071', '08452810073', '08452810075over18', '0870', '08700469649', '08700621170150p', '08701237397', '08701417012', '08701417012150p', '0870141701216', '087016248', '08701752560', '0870241182716', '08702490080', '08702840625', '08704050406', '08704439680', '08704439680ts', '08706091795', '0870737910216yrs', '08707500020', '08707509020', '0870753331018', '08709222922', '08709501522', '0871', '087104711148', '08712101358', '08712103738', '0871212025016', '08712300220', '087123002209am', '08712317606', '08712400602450p', '08712400603', '08712402050', '08712402578', '08712402779', '08712402902', '08712402972', '08712404000', '08712405020', '08712405022', '08712460324', '08712466669', '0871277810710p', '0871277810810', '0871277810910p', '08714342399', '087147123779am', '08714712388', '08714712412', '08715203028', '08715203649', '08715203652', '08715203656', '08715203694', '08715205273', '08715500022', '08715705022', '08717111821', '08717168528', '0871750', '08717507382', '08717509990', '08717890890', '08717895698', '08717898035', '08718711108', '08718720201', '08718723815', '08718726270', '087187262701', '08718726970', '08718726971', '08718726978', '087187272008', '08718727870', '08718727870150ppm', '08718730666', '08718738001', '08718738002', '08718738034', '08719180219', '08719180248', '08719181259', '08719181503', '08719181513', '08719839835', '08719899217', '08719899230', '09', '09041940223', '09050000301', '09050000332', '09050000460', '09050000555', '09050000878', '09050000928', '09050001295', '09050001808', '09050003091', '09050090044', '09050280520', '09056242159', '09058091854', '09058091870', '09058094507', '09058094565', '09058094594', '09058094597', '09058094599', '09058095107', '09058095201', '09058097189', '09058097218', '09058099801', '09061104276', '09061104283', '09061209465', '09061213237', '09061221061', '09061221066', '09061701444', '09061701461', '09061701851', '09061701939', '09061702893', '09061743386', '09061743806', '09061743810', '09061743811', '09061744553', '09061749602', '09061790121', '09061790126', '09063440451', '09063442151', '09063458130', '0906346330', '09064011000', '09064012103', '09064012160', '09064017295', '09064017305', '09064018838', '09064019014', '09064019788', '09065069154', '09065171142', '09065174042', '09065394973', '09065989180', '09065989182', '09066350750', '09066358152', '09066358361', '09066361921', '09066362206', '09066362220', '09066362231', '09066364311', '09066364589', '09066368327', '09066368470', '09066368753', '09066380611', '09066382422', '09066612661', '09066649731from', '09066660100', '09071512433', '09071517866', '09090204448', '09090900040', '09094100151', '09094646631', '09094646899', '09095350301', '09096102316', '09099725823', '09099726395', '09099726429', '09099726553', '09111030116', '09111032124', '09701213186', '0a', '0quit', '10', '100', '1000', '1000s', '100percent', '100txt', '1013', '1030', '10am', '10k', '10p', '10ppm', '10th', '11', '1131', '114', '1146', '116', '11mths', '11pm', '12', '120p', '121', '125', '1250', '125gift', '12hours', '12hrs', '12mths', '13', '1327', '139', '14', '140', '1405', '145', '14tcr', '14thmarch', '15', '150', '1500', '150p', '150p16', '150pm', '150ppermesssubscription', '150ppm', '150ppmpobox10183bhamb64xe', '150pw', '151', '153', '15541', '16', '165', '1680', '169', '177', '18', '180', '1843', '18p', '18yrs', '195', '1956669', '1apple', '1b6a5ecef91ff9', '1cup', '1er', '1lemon', '1mega', '1million', '1pm', '1st', '1st4terms', '1stone', '1tulsi', '1win150ppmx3', '1winaweek', '1winawk', '1x150p', '1yf', '20', '200', '2000', '2003', '2004', '2005', '2006', '2007', '2025050', '20m12aq', '20p', '21', '21870000', '21st', '22', '220', '220cm2', '2309', '24', '24hrs', '24m', '24th', '25', '250', '250k', '25p', '26', '26th', '27', '28', '2814032', '28days', '28thfeb', '29', '2b', '2bold', '2c', '2channel', '2day', '2docd', '2end', '2exit', '2ez', '2find', '2geva', '2go', '2gthr', '2hook', '2i', '2lands', '2marrow', '2moro', '2morow', '2morrow', '2morrowxxxx', '2mro', '2mrw', '2mwen', '2nd', '2nhite', '2nite', '2optout', '2p', '2price', '2rcv', '2stop', '2stoptxt', '2u', '2u2', '2watershd', '2waxsto', '2wks', '2wt', '2wu', '2years', '2yr', '2yrs', '30', '300', '3000', '300603', '300p', '3030', '30apr', '30ish', '30pm', '30pp', '30th', '31', '31p', '32', '32000', '3230', '326', '33', '350', '3510i', '3650', '36504', '3680', '373', '3750', '37819', '38', '382', '3aj', '3d', '3g', '3gbp', '3hrs', '3lp', '3miles', '3mins', '3mobile', '3optical', '3pound', '3qxj9', '3rd', '3ss', '3uz', '3wks', '3x', '40', '400', '400mins', '400thousad', '4041', '40533', '40gb', '40mph', '41685', '41782', '420', '42049', '42810', '434', '44', '440', '4403ldnw1a7rw18', '447797706009', '447801259231', '448712404000', '449050000301', '45', '450', '450p', '450pw', '45239', '45pm', '47', '4719', '4742', '48', '4882', '48922', '49', '49557', '4a', '4brekkie', '4d', '4eva', '4few', '4fil', '4get', '4give', '4got', '4goten', '4info', '4jx', '4mths', '4my', '4qf2', '4t', '4th', '4the', '4thnov', '4txt', '4u', '4utxt', '4w', '4wrd', '4years', '50', '500', '5000', '505060', '50gbp', '50p', '50perweeksub', '50perwksub', '50pm', '50pmmorefrommobile2bremoved', '50rcvd', '50s', '5226', '523', '526', '528', '530', '54', '542', '545', '5digital', '5free', '5ish', '5k', '5min', '5mls', '5p', '5pm', '5th', '5wb', '5we', '5wkg', '5wq', '5years', '60', '600', '6031', '6089', '60p', '61', '61200', '61610', '62220cncl', '6230', '62468', '62735', '630', '63miles', '65', '650', '66', '6669', '674', '67441233', '69200', '69669', '69696', '69698', '69855', '69866', '69888', '69888nyt', '69911', '69969', '69988', '6days', '6hl', '6hrs', '6ish', '6missed', '6months', '6ph', '6pm', '6th', '6times', '6wu', '700', '71', '7250', '7250i', '730', '75', '750', '7548', '75max', '762', '77', '7732584351', '78', '786', '7876150ppm', '79', '7am', '7cfca1a', '7ish', '7mp', '7pm', '7th', '7zs', '80', '800', '80062', '8007', '80082', '80086', '80122300p', '80160', '80182', '8027', '80488', '80608', '8077', '80878', '81010', '81151', '81303', '81618', '82050', '820554ad0a1705572711', '82242', '82277', '82324', '82468', '83021', '83039', '83049', '83110', '83222', '83332', '83355', '83370', '83383', '83435', '83600', '83738', '84', '84025', '84122', '84128', '84199', '84484', '85', '850', '85023', '85222', '85233', '8552', '85555', '86021', '861', '86688', '86888', '87021', '87066', '87070', '87077', '87121', '87131', '8714714', '872', '87239', '87575', '88039', '88066', '88088', '88222', '88600', '88800', '88888', '89034', '89070', '89080', '89105', '89123', '89545', '89555', '89693', '8p', '8pm', '8th', '8wp', '900', '9061100010', '9153', '9280114', '930', '9307622', '945', '946', '95', '9755', '97n7qp', '99', '9996', '9ae', '9am', '9ja', '9pm', '9t', '9th', '9yt', '____', 'a21', 'a30', 'aa', 'aah', 'aaooooright', 'aathi', 'ab', 'abdomen', 'abeg', 'aberdeen', 'abi', 'ability', 'abiola', 'abj', 'able', 'abnormally', 'about', 'aboutas', 'above', 'abroad', 'absence', 'absolutly', 'abstract', 'abt', 'abta', 'aburo', 'abuse', 'ac', 'academic', 'acc', 'accent', 'accenture', 'accept', 'access', 'accessible', 'accident', 'accidentally', 'accommodationvouchers', 'accomodate', 'accordin', 'accordingly', 'account', 'accounts', 'achan', 'ache', 'achieve', 'acl03530150pm', 'acnt', 'aco', 'across', 'acted', 'actin', 'acting', 'action', 'activate', 'active', 'activities', 'actor', 'actual', 'actually', 'ad', 'adam', 'add', 'addamsfa', 'added', 'addie', 'adding', 'address', 'adds', 'adewale', 'adi', 'adjustable', 'admin', 'administrator', 'admirer', 'admission', 'adore', 'adoring', 'adp', 'adress', 'adrian', 'adrink', 'ads', 'adult', 'adults', 'advance', 'adventure', 'adventuring', 'advice', 'advise', 'advising', 'aeronautics', 'aeroplane', 'afew', 'affair', 'affairs', 'affection', 'affectionate', 'affections', 'affidavit', 'afford', 'afghanistan', 'afraid', 'african', 'aft', 'after', 'afternoon', 'afterwards', 'aftr', 'ag', 'again', 'against', 'agalla', 'age', 'age16', 'age23', 'agent', 'agents', 'ages', 'agidhane', 'aging', 'ago', 'agree', 'ah', 'aha', 'ahead', 'ahhh', 'ahhhh', 'ahmad', 'ahold', 'aid', 'aig', 'aight', 'ain', 'aint', 'air', 'airport', 'airtel', 'aiya', 'aiyah', 'aiyar', 'aiyo', 'ajith', 'ak', 'aka', 'akon', 'al', 'alaikkum', 'alaipayuthe', 'album', 'alcohol', 'aldrine', 'alert', 'alerts', 'aletter', 'alex', 'alfie', 'algarve', 'algorithms', 'alian', 'alibi', 'alive', 'all', 'allah', 'allday', 'allo', 'allow', 'allows', 'almost', 'alone', 'along', 'alot', 'already', 'alright', 'alrite', 'also', 'alter', 'alternative', 'although', 'aluable', 'alwa', 'always', 'alwys', 'am', 'amanda', 'amazing', 'ambitious', 'american', 'ami', 'amigos', 'amla', 'amma', 'ammae', 'ammo', 'amnow', 'among', 'amongst', 'amore', 'amount', 'amp', 'amplikater', 'amrca', 'ams', 'amt', 'amused', 'amy', 'an', 'ana', 'anal', 'analysis', 'and', 'anderson', 'andre', 'andrews', 'andros', 'angels', 'angry', 'animal', 'animation', 'anjie', 'anjola', 'anna', 'annie', 'anniversary', 'announced', 'announcement', 'annoyin', 'annoying', 'anonymous', 'another', 'ans', 'ansr', 'answer', 'answered', 'answering', 'answers', 'antelope', 'antha', 'anthony', 'anti', 'antibiotic', 'any', 'anybody', 'anyhow', 'anymore', 'anyone', 'anyones', 'anyplaces', 'anythin', 'anything', 'anythingtomorrow', 'anytime', 'anyway', 'anyways', 'anywhere', 'aom', 'apart', 'apartment', 'apes', 'apeshit', 'apnt', 'apologetic', 'apologise', 'app', 'apparently', 'appeal', 'appear', 'appendix', 'applausestore', 'applebees', 'apples', 'application', 'apply', 'applyed', 'appointment', 'appointments', 'appreciate', 'appreciated', 'approaches', 'approve', 'approx', 'apps', 'appt', 'appy', 'april', 'aproach', 'apt', 'aptitude', 'aquarius', 'ar', 'arabian', 'ard', 'are', 'area', 'aren', 'arent', 'arestaurant', 'aretaking', 'areyouunique', 'argentina', 'argh', 'argue', 'arguing', 'argument', 'arise', 'arises', 'arm', 'armand', 'arms', 'arng', 'arngd', 'around', 'aroundn', 'arr', 'arrange', 'arranging', 'arrested', 'arrival', 'arrive', 'arrow', 'arsenal', 'art', 'artists', 'arts', 'arul', 'arun', 'as', 'asa', 'asap', 'asda', 'ashes', 'ashley', 'ashwini', 'asia', 'asjesus', 'ask', 'askd', 'asked', 'askin', 'asking', 'asks', 'asleep', 'asp', 'aspects', 'ass', 'assessment', 'assistance', 'associate', 'assume', 'assumed', 'asthere', 'astronomer', 'asusual', 'at', 'ate', 'athome', 'atlanta', 'atlast', 'atleast', 'atm', 'atrocious', 'attached', 'attempt', 'attend', 'attended', 'attitude', 'attraction', 'attractive', 'attracts', 'attributed', 'atural', 'auction', 'audiitions', 'audition', 'audrey', 'audrie', 'august', 'aunt', 'auntie', 'aunties', 'aunts', 'aunty', 'aust', 'australia', 'authorise', 'auto', 'autocorrect', 'av', 'ava', 'availa', 'available', 'avalarr', 'avatar', 'avble', 'ave', 'avenge', 'avent', 'avenue', 'avo', 'avoid', 'avoiding', 'avoids', 'await', 'awaiting', 'awake', 'award', 'awarded', 'away', 'awesome', 'awkward', 'aww', 'axel', 'axis', 'ayn', 'ayo', 'b4', 'b4190604', 'b4u', 'b4utele', 'ba', 'ba128nnfwfly150ppm', 'baaaaabe', 'babe', 'babes', 'babies', 'baby', 'babygoodbye', 'babyjontet', 'babysit', 'bac', 'back', 'backdoor', 'backwards', 'bad', 'badass', 'badly', 'badrith', 'bag', 'bags', 'bailiff', 'bak', 'bakra', 'balance', 'ball', 'balloon', 'balls', 'bam', 'bambling', 'band', 'bang', 'bani', 'bank', 'banks', 'banned', 'banter', 'bao', 'barbie', 'barcelona', 'bare', 'barely', 'bari', 'barkleys', 'barmed', 'barolla', 'barred', 'barrel', 'barring', 'barry', 'base', 'based', 'bash', 'basic', 'basically', 'basket', 'basq', 'bat', 'batch', 'batchlor', 'bath', 'bathe', 'bathing', 'bathroom', 'batsman', 'battery', 'battle', 'bawling', 'bay', 'bb', 'bbc', 'bbd', 'bbdeluxe', 'bbq', 'bc', 'bck', 'bcm', 'bcm1896wc1n3xx', 'bcm4284', 'bcmsfwc1n3xx', 'bcoz', 'bcum', 'bcums', 'bcz', 'bday', 'be', 'beach', 'beads', 'bear', 'bears', 'beatings', 'beauties', 'beautiful', 'beauty', 'bec', 'becaus', 'because', 'become', 'becomes', 'becoz', 'becz', 'bed', 'bedreal', 'bedrm', 'bedroom', 'beehoon', 'been', 'beendropping', 'beer', 'beers', 'befor', 'before', 'beforehand', 'beg', 'begging', 'begin', 'begins', 'begun', 'behalf', 'behave', 'behind', 'bein', 'being', 'believe', 'bell', 'belligerent', 'belly', 'belong', 'belongs', 'belovd', 'beloved', 'belt', 'ben', 'bend', 'beneath', 'beneficiary', 'benefits', 'bergkamp', 'beside', 'best', 'best1', 'bet', 'beta', 'betta', 'better', 'bettersn', 'bettr', 'between', 'beware', 'beyond', 'bf', 'bffs', 'bfore', 'bhaji', 'bhayandar', 'bian', 'bid', 'bids', 'big', 'bigger', 'biggest', 'bike', 'bill', 'billed', 'billing', 'billion', 'bills', 'billy', 'bimbo', 'bin', 'biola', 'bird', 'birds', 'birla', 'biro', 'birth', 'birthdate', 'birthday', 'bishan', 'bit', 'bitch', 'bitching', 'bite', 'bites', 'biz', 'bk', 'black', 'blackberry', 'blah', 'blake', 'blame', 'blank', 'blanked', 'blanket', 'blastin', 'bleak', 'bleh', 'bless', 'blessed', 'blessing', 'blessings', 'blimey', 'blind', 'block', 'blocked', 'blog', 'bloke', 'blonde', 'bloo', 'blood', 'bloody', 'bloomberg', 'blow', 'blown', 'blu', 'blue', 'bluetooth', 'bluetoothhdset', 'bluff', 'blur', 'bmw', 'boat', 'boatin', 'bob', 'body', 'bognor', 'bold', 'bold2', 'bollox', 'boltblue', 'bomb', 'bone', 'bonus', 'boo', 'book', 'booked', 'booking', 'bookmark', 'books', 'bookshelf', 'boost', 'booty', 'bootydelious', 'borderline', 'bored', 'borin', 'boring', 'born', 'borrow', 'boss', 'boston', 'bot', 'both', 'bother', 'bothering', 'bottle', 'bottom', 'bought', 'boundaries', 'bout', 'bowa', 'bowl', 'box', 'box1146', 'box139', 'box177', 'box245c2150pm', 'box326', 'box334', 'box334sk38ch', 'box385', 'box39822', 'box403', 'box420', 'box42wr29c', 'box61', 'box95qu', 'box97n7qp', 'boy', 'boye', 'boyf', 'boyfriend', 'boys', 'boytoy', 'bpo', 'brain', 'brainless', 'brains', 'brand', 'brandy', 'brats', 'braved', 'brb', 'bread', 'break', 'breaker', 'breakin', 'breaking', 'breaks', 'breath', 'breathe', 'breathe1', 'breather', 'breeze', 'breezy', 'bridal', 'bridgwater', 'brief', 'bright', 'brighten', 'brilliant', 'bring', 'bringing', 'brings', 'brisk', 'brison', 'bristol', 'british', 'bro', 'broad', 'broadband', 'broke', 'broken', 'brolly', 'bros', 'broth', 'brothas', 'brother', 'brothers', 'brought', 'brown', 'brownie', 'brownies', 'browse', 'browser', 'bruce', 'brum', 'bruv', 'bslvyl', 'bsn', 'bsnl', 'bstfrnd', 'bt', 'bthere', 'btw', 'btwn', 'bucks', 'bud', 'buddys', 'budget', 'buen', 'buff', 'buffet', 'buffy', 'bugis', 'build', 'building', 'built', 'bulbs', 'bull', 'bullshit', 'bunch', 'bundle', 'bunkers', 'buns', 'burden', 'burger', 'burgundy', 'burn', 'burning', 'burns', 'burrito', 'bus', 'bus8', 'buses', 'busetop', 'business', 'busty', 'busy', 'but', 'butt', 'buttheres', 'butting', 'buy', 'buyers', 'buying', 'buz', 'buzy', 'buzz', 'buzzzz', 'bx', 'bx420', 'bx526', 'by', 'byatch', 'bye', 'c52', 'cab', 'cabin', 'cable', 'cafe', 'cage', 'cake', 'cal', 'calculated', 'calculation', 'cali', 'calicut', 'california', 'call', 'call09050000327', 'call2optout', 'callback', 'callcost', 'calld', 'called', 'caller', 'callers', 'callertune', 'callin', 'calling', 'callon', 'calls', 'calm', 'cam', 'camcorder', 'came', 'camera', 'camp', 'campus', 'can', 'canada', 'canal', 'canary', 'cancel', 'canceled', 'cancelled', 'cancer', 'canlove', 'cann', 'canname', 'cannot', 'cant', 'cantdo', 'capital', 'cappuccino', 'caps', 'captain', 'captaining', 'car', 'card', 'cardiff', 'cardin', 'care', 'cared', 'career', 'careers', 'careful', 'carefully', 'cares', 'caring', 'carlie', 'carlin', 'carlos', 'carly', 'caroline', 'carry', 'carryin', 'cars', 'cartons', 'cartoon', 'case', 'cash', 'cashbin', 'cashed', 'cashto', 'casing', 'cast', 'castor', 'casualty', 'cat', 'catch', 'catches', 'catching', 'categories', 'caught', 'cause', 'causing', 'caveboy', 'cbe', 'cc', 'cc100p', 'ccna', 'cd', 'cdgt', 'cds', 'cedar', 'celeb', 'celebrate', 'celebrated', 'celebration', 'celebrations', 'cell', 'census', 'center', 'centre', 'century', 'cer', 'certainly', 'cha', 'chad', 'chain', 'challenge', 'challenging', 'champ', 'champlaxigating', 'champneys', 'chance', 'chances', 'change', 'changed', 'changes', 'channel', 'chapel', 'chaps', 'character', 'characters', 'charge', 'charged', 'charges', 'charity', 'charles', 'charming', 'chart', 'charts', 'chase', 'chasing', 'chastity', 'chat', 'chatlines', 'chatting', 'cheap', 'cheaper', 'cheat', 'cheating', 'chechi', 'check', 'checked', 'checkin', 'checking', 'checkmate', 'checkup', 'cheer', 'cheered', 'cheers', 'cheese', 'cheesy', 'cheetos', 'chennai', 'cheque', 'cherish', 'cherthala', 'chess', 'chest', 'chex', 'chez', 'chg', 'chgs', 'chic', 'chicken', 'chik', 'chikku', 'child', 'childish', 'childporn', 'children', 'chile', 'chill', 'chillaxin', 'chillin', 'china', 'chinatown', 'chinchillas', 'chinese', 'chinky', 'chinnu', 'chiong', 'chip', 'chk', 'chloe', 'chocolate', 'choice', 'choose', 'choosing', 'chop', 'chores', 'chosen', 'chrgd', 'christ', 'christians', 'christmas', 'christmassy', 'chuck', 'chuckin', 'church', 'ciao', 'cine', 'cinema', 'citizen', 'city', 'citylink', 'cl', 'claim', 'claimcode', 'claims', 'claire', 'clarification', 'clarify', 'clark', 'clas', 'clash', 'class', 'classes', 'classmates', 'claypot', 'cld', 'clean', 'cleaning', 'clear', 'cleared', 'clearing', 'clearly', 'click', 'cliff', 'cliffs', 'clock', 'clocks', 'clos1', 'close', 'closeby', 'closed', 'closer', 'closes', 'closingdate04', 'cloth', 'clothes', 'cloud', 'clover', 'club', 'club4', 'club4mobiles', 'clubmoby', 'clubsaisai', 'clubzed', 'clue', 'cm', 'cm2', 'cmon', 'cn', 'cnl', 'cnn', 'cnupdates', 'co', 'coach', 'coast', 'coat', 'coaxing', 'coca', 'coccooning', 'cochin', 'cock', 'cocksuckers', 'coco', 'code', 'coffee', 'coimbatore', 'coins', 'cola', 'colany', 'cold', 'collapsed', 'colleagues', 'collect', 'collected', 'collecting', 'collection', 'colleg', 'college', 'color', 'colour', 'colourful', 'colours', 'com', 'com1win150ppmx3age16', 'com1win150ppmx3age16subscription', 'combination', 'combine', 'come', 'comedy', 'comes', 'comfort', 'comin', 'coming', 'comingdown', 'comment', 'commercial', 'commit', 'common', 'community', 'comp', 'companies', 'company', 'compare', 'competition', 'complain', 'complete', 'completed', 'completely', 'completes', 'complexities', 'complimentary', 'comprehensive', 'computational', 'computer', 'computerless', 'comuk', 'conacted', 'concentrate', 'concentrating', 'concentration', 'concern', 'concert', 'conclusion', 'condition', 'conditions', 'conducts', 'conected', 'conference', 'confidence', 'configure', 'confirm', 'confirmd', 'confirmed', 'conform', 'confused', 'confuses', 'congrats', 'congratulation', 'congratulations', 'connect', 'connected', 'connection', 'connections', 'cons', 'consent', 'conserve', 'consider', 'considering', 'consistently', 'constant', 'constantly', 'contact', 'contacted', 'contacts', 'contains', 'content', 'contented', 'contention', 'contents', 'continent', 'continue', 'contract', 'control', 'convenience', 'conversations', 'converted', 'converter', 'convey', 'convince', 'convinced', 'convincing', 'cook', 'cooked', 'cookies', 'cooking', 'cool', 'cooped', 'cooperative', 'copied', 'copies', 'coping', 'cops', 'copy', 'corect', 'cornwall', 'corporation', 'corrct', 'correct', 'correction', 'correctly', 'corrupt', 'corvettes', 'cos', 'cosign', 'cost', 'costa', 'costing', 'costs', 'costumes', 'couch', 'cougar', 'cough', 'coughing', 'could', 'couldn', 'count', 'countin', 'countinlots', 'country', 'counts', 'coupla', 'couple', 'courage', 'course', 'court', 'courtroom', 'cousin', 'cover', 'coveragd', 'covers', 'coz', 'cozy', 'cps', 'cr01327bt', 'cr9', 'crab', 'crack', 'craigslist', 'cramps', 'crash', 'crashing', 'crave', 'craving', 'craziest', 'crazy', 'crazyin', 'cream', 'created', 'creative', 'credit', 'credited', 'credits', 'creep', 'creepy', 'cres', 'cribbs', 'cricket', 'cricketer', 'crickiting', 'cried', 'crisis', 'cro1327', 'crore', 'cross', 'crossing', 'crowd', 'croydon', 'crucial', 'cruise', 'cruisin', 'crushes', 'cry', 'crying', 'cs', 'csbcm4235wc1n3xx', 'csc', 'csh11', 'cst', 'cstore', 'ctagg', 'ctargg', 'cthen', 'cttargg', 'ctter', 'cttergg', 'ctxt', 'cu', 'cuck', 'cud', 'cuddle', 'cuddling', 'culdnt', 'cultures', 'cum', 'cumin', 'cumming', 'cup', 'cupboard', 'cuppa', 'curious', 'current', 'currently', 'curry', 'curtsey', 'cusoon', 'cust', 'custcare', 'customer', 'customercare', 'customers', 'customersqueries', 'cut', 'cute', 'cutefrnd', 'cutest', 'cutie', 'cutter', 'cutting', 'cuz', 'cw25wx', 'cya', 'cyclists', 'cysts', 'd3wv', 'da', 'daaaaa', 'dabbles', 'dabooks', 'dad', 'daddy', 'dai', 'daily', 'damn', 'dan', 'dancce', 'dance', 'dancin', 'dancing', 'dane', 'dang', 'danger', 'dare', 'dark', 'darker', 'darkest', 'darkness', 'darlin', 'darling', 'darlings', 'darren', 'dartboard', 'dat', 'data', 'date', 'datebox1282essexcm61xn', 'dates', 'dating', 'dats', 'datz', 'dave', 'dawns', 'day', 'days', 'daytime', 'dbuk', 'dd', 'de', 'dead', 'deal', 'dealer', 'dealing', 'deals', 'dear', 'dear1', 'dearer', 'dearly', 'death', 'dec', 'decades', 'december', 'decide', 'decided', 'deciding', 'decimal', 'decision', 'deck', 'decking', 'declare', 'decorating', 'dedicate', 'dedicated', 'deduct', 'deep', 'deepak', 'deepest', 'deer', 'deeraj', 'def', 'defeat', 'defer', 'deficient', 'definite', 'definitely', 'defo', 'degree', 'degrees', 'dehydrated', 'dehydration', 'del', 'delay', 'delete', 'deleted', 'delhi', 'delicious', 'deliver', 'delivered', 'deliveredtomorrow', 'delivery', 'deltomorrow', 'deluxe', 'dem', 'demand', 'den', 'dengra', 'denis', 'dent', 'dental', 'dentist', 'dentists', 'denying', 'department', 'dependents', 'depends', 'deposit', 'deposited', 'depressed', 'depression', 'dept', 'der', 'derek', 'describe', 'description', 'desert', 'deserve', 'designation', 'desires', 'desk', 'desparately', 'desperate', 'despite', 'dessert', 'destination', 'destiny', 'detail', 'detailed', 'details', 'determine', 'detroit', 'deus', 'developed', 'developer', 'device', 'devils', 'deviousbitch', 'devouring', 'dey', 'dhanush', 'dhina', 'dhoni', 'dhorte', 'di', 'dial', 'dialogue', 'diamond', 'diamonds', 'dice', 'dick', 'dict', 'dictionary', 'did', 'diddy', 'didn', 'didnt', 'die', 'died', 'diet', 'dieting', 'diff', 'differ', 'difference', 'differences', 'different', 'difficult', 'difficulties', 'digi', 'digital', 'digits', 'dignity', 'dileep', 'dime', 'din', 'dined', 'dinero', 'ding', 'dining', 'dinner', 'dino', 'dint', 'dip', 'dippeditinadew', 'direct', 'directly', 'director', 'directors', 'dirt', 'dirtiest', 'dirty', 'dis', 'disagreeable', 'disappeared', 'disappointment', 'disasters', 'disastrous', 'disc', 'disclose', 'disconnect', 'disconnected', 'discount', 'discreet', 'discuss', 'discussed', 'diseases', 'disk', 'dislikes', 'dismissial', 'display', 'distance', 'distract', 'disturb', 'disturbance', 'disturbing', 'ditto', 'divert', 'division', 'divorce', 'diwali', 'dizzamn', 'dizzee', 'dled', 'dlf', 'dload', 'dnot', 'dnt', 'do', 'dob', 'dobby', 'doc', 'dock', 'docks', 'docs', 'doctor', 'doctors', 'documents', 'dodgey', 'does', 'doesdiscount', 'doesn', 'doesnt', 'dog', 'dogg', 'doggin', 'dogging', 'doggy', 'dogs', 'dogwood', 'doin', 'doinat', 'doing', 'dokey', 'doll', 'dollar', 'dollars', 'dolls', 'domain', 'don', 'done', 'donno', 'dont', 'dontcha', 'dontignore', 'dontmatter', 'dontplease', 'donyt', 'dooms', 'door', 'doors', 'dorm', 'dormitory', 'dorothy', 'dose', 'dosomething', 'dot', 'double', 'doublemins', 'doubles', 'doubletxt', 'doubt', 'dough', 'down', 'download', 'downloaded', 'downloads', 'downon', 'downs', 'downstem', 'dozens', 'dps', 'dr', 'dracula', 'dramastorm', 'dramatic', 'drastic', 'draw', 'draws', 'dreading', 'dream', 'dreams', 'dress', 'dressed', 'dresser', 'drink', 'drinkin', 'drinking', 'drinks', 'drivby', 'drive', 'driver', 'drivin', 'driving', 'drms', 'drop', 'dropped', 'drove', 'drpd', 'drug', 'drugdealer', 'drugs', 'drum', 'drunk', 'drunkard', 'drunken', 'dry', 'dsn', 'dt', 'dual', 'dubsack', 'duchess', 'ducking', 'dude', 'dudes', 'dudette', 'due', 'duffer', 'dull', 'dumb', 'dun', 'dungerees', 'dunno', 'durban', 'durham', 'during', 'dusk', 'dust', 'duvet', 'dvd', 'dwn', 'dying', 'e14', 'each', 'eachother', 'ear', 'earlier', 'early', 'earn', 'earning', 'ears', 'earth', 'easier', 'easiest', 'easily', 'east', 'eastenders', 'easter', 'easy', 'eat', 'eaten', 'eatin', 'eating', 'ebay', 'ec2a', 'echo', 'eckankar', 'ecstacy', 'edge', 'edition', 'edrunk', 'edu', 'education', 'educational', 'edukkukayee', 'edward', 'edwards', 'eek', 'eerie', 'eerulli', 'effect', 'effects', 'efreefone', 'eg', 'egbon', 'egg', 'eggs', 'eh', 'eh74rr', 'eight', 'eighth', 'either', 'el', 'ela', 'elaborate', 'elaborating', 'elaine', 'elama', 'elaya', 'eldest', 'election', 'electricity', 'elephant', 'eleven', 'elliot', 'ello', 'else', 'elsewhere', 'em', 'email', 'emailed', 'embarassed', 'embarrassed', 'embassy', 'emc1', 'emergency', 'emigrated', 'emily', 'emotion', 'employer', 'empty', 'en', 'enc', 'end', 'ended', 'ending', 'endless', 'endof', 'ends', 'enemies', 'enemy', 'energy', 'eng', 'engaged', 'engalnd', 'engin', 'england', 'english', 'enjoy', 'enjoyed', 'enjoyin', 'enjoying', 'enketa', 'ennal', 'enough', 'enter', 'entered', 'enters', 'entertaining', 'entey', 'entire', 'entirely', 'entitled', 'entrepreneurs', 'entropication', 'entry', 'entry41', 'enufcredeit', 'enuff', 'envelope', 'environment', 'envy', 'epi', 'epsilon', 'equally', 'er', 'ere', 'ericson', 'ericsson', 'erm', 'erode', 'erotic', 'err', 'error', 'errors', 'ertini', 'eruku', 'erupt', 'erutupalam', 'esaplanade', 'escalator', 'escape', 'ese', 'espe', 'especially', 'esplanade', 'essay', 'essential', 'eta', 'etc', 'ethnicity', 'etlp', 'ettans', 'euro', 'euro2004', 'eurodisinc', 'europe', 'evaluation', 'evaporated', 'eve', 'eveb', 'even', 'evening', 'evenings', 'event', 'events', 'eventually', 'ever', 'every', 'every1', 'everybody', 'everyboy', 'everyday', 'everyone', 'everyso', 'everythin', 'everything', 'everytime', 'everywhere', 'eviction', 'evn', 'evng', 'evo', 'evone', 'evr', 'evrey', 'evry', 'evrydy', 'ew', 'ex', 'exact', 'exactly', 'exam', 'exams', 'excellent', 'except', 'exchanged', 'exciting', 'excuse', 'excused', 'excuses', 'exe', 'executive', 'exercise', 'exeter', 'exhaust', 'exhausted', 'exhibition', 'exist', 'exmpel', 'exorcism', 'exorcist', 'exp', 'expect', 'expected', 'expecting', 'expects', 'expensive', 'experience', 'experiencehttp', 'experiment', 'expert', 'expired', 'expires', 'expiry', 'explain', 'explicit', 'explosive', 'exposed', 'express', 'expression', 'expressoffer', 'ext', 'extra', 'extreme', 'ey', 'eye', 'eyed', 'eyes', 'fa', 'fab', 'faber', 'face', 'facebook', 'fact', 'facts', 'faggot', 'faggy', 'failed', 'failing', 'fails', 'failure', 'fainting', 'fair', 'faith', 'fake', 'fakeye', 'fal', 'fall', 'fallen', 'falling', 'falls', 'fals', 'famamus', 'family', 'fan', 'fancies', 'fancy', 'fans', 'fantasies', 'fantastic', 'fantasy', 'far', 'farm', 'farting', 'fast', 'faster', 'fastest', 'fat', 'fated', 'father', 'fathima', 'fats', 'fatty', 'fault', 'fav', 'fave', 'favor', 'favorite', 'favour', 'favourite', 'fb', 'fear', 'feathery', 'features', 'feb', 'february', 'feed', 'feel', 'feelin', 'feeling', 'feelingood', 'feellikw', 'feels', 'fees', 'feet', 'fell', 'fellow', 'felt', 'female', 'feng', 'fetch', 'fever', 'few', 'ffectionate', 'ffffffffff', 'ffffuuuuuuu', 'fgkslpo', 'fgkslpopw', 'fidalfication', 'field', 'fieldof', 'fifa', 'fifteen', 'fifth', 'fifty', 'fight', 'fighting', 'fights', 'figure', 'figures', 'figuring', 'file', 'files', 'fill', 'filled', 'fills', 'film', 'films', 'filth', 'filthy', 'final', 'finalise', 'finally', 'finance', 'financial', 'find', 'finds', 'fine', 'finest', 'fingers', 'finish', 'finishd', 'finished', 'finishes', 'finishing', 'fink', 'finn', 'fire', 'firefox', 'fireplace', 'fires', 'first', 'fish', 'fishhead', 'fishrman', 'fit', 'five', 'fix', 'fixed', 'fixedline', 'fixes', 'fizz', 'flag', 'flaked', 'flame', 'flash', 'flat', 'flatter', 'fletcher', 'flies', 'flight', 'flights', 'flim', 'flip', 'flippin', 'flirt', 'flirting', 'flirtparty', 'floating', 'flood', 'floor', 'floppy', 'florida', 'flow', 'flower', 'flowers', 'flowing', 'fluids', 'flung', 'flurries', 'flute', 'fly', 'fm', 'fml', 'fne', 'fold', 'foley', 'folks', 'follow', 'followed', 'followin', 'following', 'follows', 'fond', 'fondly', 'fone', 'foned', 'fones', 'fonin', 'food', 'fool', 'foot', 'football', 'footie', 'footprints', 'footy', 'for', 'force', 'forced', 'foregate', 'foreign', 'forever', 'forevr', 'forget', 'forgets', 'forgive', 'forgiven', 'forgiveness', 'forgot', 'forgotten', 'forgt', 'form', 'formally', 'format', 'formatting', 'forms', 'forth', 'forum', 'forums', 'forward', 'forwarded', 'forwarding', 'found', 'foundurself', 'four', 'foward', 'fowler', 'fox', 'fps', 'fr', 'fraction', 'fran', 'franxx', 'franyxxxxx', 'frauds', 'freak', 'freaked', 'freaking', 'freaky', 'free', 'free2day', 'freedom', 'freeentry', 'freefone', 'freek', 'freely', 'freemsg', 'freephone', 'freezing', 'freinds', 'fren', 'frens', 'frequently', 'fresh', 'fret', 'fri', 'friday', 'fridge', 'friend', 'friends', 'friendsare', 'friendship', 'fring', 'fringe', 'frm', 'frmcloud', 'frnd', 'frnds', 'frndship', 'frndshp', 'frndsship', 'frndz', 'frnt', 'fro', 'frog', 'from', 'fromm', 'fromwrk', 'front', 'frontierville', 'frosty', 'fruit', 'frwd', 'frying', 'ft', 'fuck', 'fucked', 'fuckin', 'fucking', 'fuckinnice', 'fucks', 'fudge', 'fuelled', 'fujitsu', 'ful', 'fulfil', 'full', 'fullonsms', 'fumbling', 'fun', 'function', 'functions', 'funeral', 'funk', 'funky', 'funny', 'funs', 'furniture', 'further', 'fusion', 'future', 'fuuuuck', 'fwiw', 'fyi', 'g696ga', 'ga', 'gage', 'gain', 'gal', 'galileo', 'gals', 'gam', 'game', 'games', 'gamestar', 'gandhipuram', 'ganesh', 'gang', 'gap', 'gaps', 'garage', 'garbage', 'garden', 'gardener', 'gary', 'gas', 'gastroenteritis', 'gate', 'gautham', 'gauti', 'gave', 'gay', 'gays', 'gaytextbuddy', 'gaze', 'gbp', 'gbp1', 'gbp4', 'gbp5', 'gd', 'gdeve', 'ge', 'gee', 'geeee', 'geeeee', 'gek1510', 'gender', 'generally', 'genius', 'gent', 'gentle', 'gentleman', 'gently', 'genuine', 'genus', 'geoenvironmental', 'george', 'gep', 'germany', 'get', 'getiing', 'gets', 'getstop', 'gettin', 'getting', 'getzed', 'gf', 'ghost', 'gibbs', 'gift', 'gifted', 'gifts', 'gigolo', 'gimme', 'gimmi', 'gin', 'girl', 'girlfrnd', 'girlie', 'girls', 'gist', 'giv', 'give', 'given', 'gives', 'giving', 'glad', 'glands', 'glasgow', 'glass', 'glo', 'glorious', 'gloucesterroad', 'gm', 'gmw', 'gn', 'gnarls', 'go', 'go2', 'go2sri', 'goal', 'goals', 'gobi', 'god', 'gods', 'goes', 'goigng', 'goin', 'goin2bed', 'going', 'gokila', 'gold', 'golddigger', 'golden', 'goldviking', 'gon', 'gona', 'gone', 'gong', 'gonna', 'gonnamissu', 'good', 'goodevening', 'goodfriend', 'goodies', 'goodmate', 'goodmorning', 'goodnight', 'goodnite', 'goodnoon', 'goodo', 'goods', 'goodtime', 'google', 'gopalettan', 'gorgeous', 'gosh', 'goss', 'gossip', 'got', 'gota', 'gotbabes', 'gotmarried', 'goto', 'gotta', 'gotten', 'gotto', 'goverment', 'govt', 'gower', 'gprs', 'gpu', 'gr8', 'gr8fun', 'grace', 'grahmbell', 'gram', 'grams', 'gran', 'grand', 'grandfather', 'grandmas', 'granite', 'granted', 'graphics', 'grasp', 'grave', 'gravel', 'gravity', 'gravy', 'gray', 'grazed', 'great', 'greatest', 'greatness', 'green', 'greet', 'greetings', 'grief', 'grins', 'grl', 'grocers', 'grooved', 'groovy', 'groovying', 'ground', 'group', 'grow', 'growing', 'grown', 'grownup', 'grr', 'grumble', 'gsoh', 'gt', 'gua', 'guai', 'guarantee', 'guaranteed', 'gucci', 'gud', 'gudnite', 'guess', 'guessin', 'guessing', 'guidance', 'guide', 'guild', 'guilty', 'gumby', 'guoyang', 'gut', 'guy', 'guys', 'gv', 'gving', 'gym', 'gymnastics', 'gynae', 'gyno', 'ha', 'habba', 'habit', 'hack', 'had', 'hadn', 'haf', 'haha', 'hahaha', 'hai', 'hail', 'hair', 'haircut', 'hairdressers', 'haiz', 'half', 'half8th', 'hall', 'hallaq', 'halloween', 'ham', 'hamster', 'hand', 'handed', 'handing', 'handle', 'hands', 'handset', 'handsomes', 'hang', 'hanger', 'hanging', 'hanks', 'hannaford', 'happen', 'happend', 'happened', 'happenin', 'happening', 'happens', 'happiest', 'happily', 'happiness', 'happy', 'hard', 'hardcore', 'harder', 'hardest', 'hardly', 'hari', 'harish', 'harlem', 'harri', 'harry', 'has', 'hasbro', 'hasn', 'hasnt', 'hat', 'hate', 'hates', 'haul', 'haunt', 'hav', 'hava', 'havbeen', 'have', 'havebeen', 'haven', 'havent', 'haventcn', 'havin', 'having', 'havn', 'havnt', 'hdd', 'he', 'head', 'headache', 'headin', 'heading', 'heads', 'headset', 'headstart', 'healthy', 'hear', 'heard', 'hearing', 'heart', 'hearted', 'hearts', 'heat', 'heater', 'heaven', 'heavily', 'heavy', 'hectic', 'hee', 'heehee', 'hehe', 'height', 'held', 'helen', 'hell', 'hella', 'hello', 'helloooo', 'help', 'help08700621170150p', 'help08714742804', 'help08718728876', 'helpful', 'helpline', 'helps', 'heltini', 'hen', 'hence', 'henry', 'hep', 'her', 'here', 'hero', 'heroes', 'herself', 'hes', 'hesitate', 'hesitation', 'hex', 'hey', 'hg', 'hhahhaahahah', 'hi', 'hidden', 'hide', 'hides', 'high', 'highest', 'hill', 'hills', 'him', 'himself', 'hint', 'hip', 'hiphop', 'his', 'history', 'hit', 'hitler', 'hits', 'hitter', 'hittng', 'hiya', 'hl', 'hlday', 'hlp', 'hmm', 'hmmm', 'hmv', 'hmv1', 'ho', 'hockey', 'hogidhe', 'hogli', 'hogolo', 'hol', 'holby', 'hold', 'holder', 'holding', 'hole', 'holiday', 'holla', 'hollalater', 'hols', 'holy', 'home', 'homeowners', 'hon', 'honest', 'honey', 'honeybee', 'honeymoon', 'honi', 'hont', 'hoo', 'hooch', 'hoody', 'hook', 'hooked', 'hoops', 'hop', 'hope', 'hoped', 'hopeful', 'hopefully', 'hopes', 'hopeso', 'hoping', 'hor', 'horny', 'horrible', 'horse', 'hospital', 'hospitals', 'host', 'hostel', 'hostile', 'hot', 'hotel', 'hotels', 'hotmail', 'hotmix', 'hottest', 'hour', 'hours', 'house', 'houseful', 'housewives', 'housework', 'how', 'howdy', 'however', 'hows', 'howu', 'howz', 'hp', 'hp20', 'hppnss', 'hr', 'hrishi', 'hrs', 'hsbc', 'html', 'http', 'hu', 'huai', 'hubby', 'hudgi', 'hug', 'huge', 'hugging', 'hugh', 'hugs', 'huh', 'hui', 'humans', 'hun', 'hundred', 'hundreds', 'hungover', 'hungry', 'hunks', 'hunny', 'hunt', 'hunting', 'hurricanes', 'hurried', 'hurry', 'hurt', 'hurting', 'hurts', 'husband', 'hussey', 'hustle', 'hv', 'hvae', 'hw', 'hyde', 'hype', 'hypertension', 'hypotheticalhuagauahahuagahyuhagga', 'iam', 'ias', 'ibh', 'ibhltd', 'ibiza', 'ibm', 'ibn', 'ibored', 'ibuprofens', 'ic', 'iccha', 'ice', 'icic', 'icicibank', 'icky', 'icmb3cktz8r7', 'icon', 'id', 'idc', 'idea', 'ideal', 'ideas', 'identification', 'identifier', 'idew', 'idiot', 'idk', 'idps', 'ie', 'if', 'iff', 'ifink', 'ig11', 'ignore', 'ihave', 'ijust', 'ikea', 'ikno', 'il', 'ileave', 'ill', 'illness', 'illspeak', 'ilol', 'im', 'image', 'images', 'imagination', 'imagine', 'imat', 'imf', 'img', 'imin', 'imma', 'immed', 'immediately', 'immunisation', 'imp', 'impatient', 'implications', 'important', 'importantly', 'imposed', 'impossible', 'imposter', 'impressed', 'impression', 'impressively', 'improve', 'improved', 'imprtant', 'in', 'in2', 'inc', 'inch', 'inches', 'incident', 'inclu', 'include', 'includes', 'including', 'inclusive', 'incomm', 'inconsiderate', 'inconvenience', 'inconvenient', 'incorrect', 'increase', 'incredible', 'increments', 'indeed', 'independently', 'index', 'india', 'indian', 'indians', 'indicate', 'individual', 'indyarocks', 'inever', 'infections', 'infernal', 'influx', 'info', 'inform', 'information', 'informed', 'infra', 'infront', 'ing', 'initiate', 'ink', 'inlude', 'inmind', 'inner', 'innings', 'innocent', 'insha', 'inshah', 'inside', 'inspection', 'install', 'installation', 'installing', 'instant', 'instantly', 'instead', 'instituitions', 'instructions', 'insurance', 'intelligent', 'intention', 'intentions', 'interest', 'interested', 'interesting', 'interflora', 'interfued', 'internet', 'interview', 'interviw', 'intha', 'into', 'intro', 'intrude', 'invest', 'investigate', 'invite', 'invited', 'inviting', 'invnted', 'invoices', 'involve', 'iouri', 'ip', 'ip4', 'ipad', 'ipaditan', 'ipads', 'iphone', 'ipod', 'iq', 'iraq', 'irene', 'iron', 'ironing', 'irritated', 'irritates', 'irritating', 'irulinae', 'is', 'isaiah', 'iscoming', 'ish', 'island', 'islands', 'isn', 'isnt', 'issues', 'isv', 'it', 'italian', 'itcould', 'items', 'iter', 'ithink', 'itna', 'its', 'itself', 'itwhichturnedinto', 'itxt', 'itz', 'ive', 'iwana', 'iyo', 'iz', 'izzit', 'j5q', 'j89', 'jabo', 'jack', 'jacket', 'jackpot', 'jackson', 'jacuzzi', 'jada', 'jade', 'jaklin', 'jam', 'james', 'jamster', 'jamz', 'jan', 'jane', 'janinexx', 'january', 'jap', 'japanese', 'jas', 'jason', 'java', 'jay', 'jaya', 'jazz', 'jb', 'jd', 'jealous', 'jeans', 'jeevithathile', 'jelly', 'jen', 'jenne', 'jenny', 'jeremiah', 'jerk', 'jerry', 'jersey', 'jess', 'jesus', 'jet', 'jetton', 'jewelry', 'jez', 'ji', 'jia', 'jiayin', 'jide', 'jiu', 'jjc', 'joanna', 'job', 'jobs', 'jobyet', 'jocks', 'jod', 'jog', 'jogging', 'john', 'join', 'joined', 'joining', 'joke', 'jokes', 'joking', 'jolly', 'jolt', 'jon', 'jontin', 'jordan', 'jorge', 'jot', 'journey', 'joy', 'jp', 'js', 'jsco', 'jst', 'jstfrnd', 'jsut', 'juan', 'juicy', 'jul', 'jules', 'juliana', 'julianaland', 'july', 'jump', 'jumpers', 'june', 'jungle', 'junna', 'jurong', 'jus', 'just', 'justbeen', 'justfound', 'justify', 'justthought', 'juswoke', 'juz', 'k52', 'k61', 'kaaj', 'kadeem', 'kaiez', 'kaitlyn', 'kalainar', 'kallis', 'kalstiya', 'kama', 'kane', 'kanji', 'kano', 'karaoke', 'karnan', 'karo', 'kate', 'katexxx', 'kath', 'kavalan', 'kay', 'kaypoh', 'kb', 'ke', 'keen', 'keep', 'keeping', 'keeps', 'kegger', 'ken', 'kent', 'kept', 'kerala', 'keris', 'kettoda', 'key', 'keypad', 'keys', 'kfc', 'kg', 'khelate', 'ki', 'kicchu', 'kick', 'kickboxing', 'kickoff', 'kicks', 'kid', 'kidding', 'kids', 'kidz', 'kiefer', 'kill', 'killed', 'killing', 'kills', 'kilos', 'kind', 'kinda', 'kindly', 'king', 'kingdom', 'kintu', 'kip', 'kiss', 'kisses', 'kissing', 'kit', 'kittum', 'kitty', 'kl341', 'knackered', 'knees', 'knew', 'knickers', 'knock', 'knocking', 'know', 'knowing', 'known', 'knows', 'knw', 'kochi', 'kodstini', 'kodthini', 'kolathupalayam', 'konw', 'korche', 'korean', 'korli', 'korte', 'kotees', 'kothi', 'ktv', 'kudi', 'kusruthi', 'kvb', 'kz', 'l8', 'l8er', 'l8r', 'l8rs', 'la', 'la3', 'la32wu', 'lab', 'lac', 'lacking', 'lacs', 'laden', 'ladies', 'lady', 'lage', 'laid', 'lakhs', 'lambda', 'lambu', 'lamp', 'lancaster', 'land', 'landline', 'landlines', 'landmark', 'lands', 'lane', 'langport', 'language', 'lanka', 'lanre', 'lap', 'laptop', 'lar', 'lara', 'large', 'largest', 'lark', 'lasagna', 'last', 'lastest', 'lasting', 'late', 'lately', 'latelyxxx', 'later', 'latest', 'latests', 'latr', 'laugh', 'laughed', 'laughing', 'laughs', 'laundry', 'laurie', 'lautech', 'lavender', 'law', 'laxinorficated', 'lay', 'layin', 'lays', 'lazy', 'lccltd', 'ld', 'ldew', 'ldn', 'ldnw15h', 'le', 'lead', 'leadership', 'leading', 'leads', 'leaf', 'league', 'leanne', 'learn', 'least', 'least5times', 'leave', 'leaves', 'leaving', 'lect', 'lecture', 'lecturer', 'left', 'leftovers', 'leg', 'legal', 'legitimat', 'legs', 'leh', 'lei', 'lekdog', 'lemme', 'lengths', 'leo', 'leona', 'leonardo', 'les', 'less', 'lesser', 'lesson', 'lessons', 'let', 'lets', 'letter', 'letters', 'level', 'li', 'liao', 'lib', 'libertines', 'library', 'lick', 'licks', 'lido', 'lie', 'lies', 'life', 'lifebook', 'lifetime', 'lifpartnr', 'lift', 'lifted', 'lifting', 'light', 'lik', 'like', 'liked', 'likely', 'likes', 'likeyour', 'lil', 'lily', 'limit', 'limited', 'limiting', 'limping', 'line', 'lined', 'linerental', 'lines', 'lingerie', 'lingo', 'link', 'links', 'linux', 'lion', 'lionm', 'lionp', 'lions', 'lip', 'lipo', 'lips', 'liquor', 'list', 'listed', 'listen', 'listening', 'listn', 'lit', 'literally', 'litres', 'little', 'live', 'lived', 'liver', 'liverpool', 'lives', 'living', 'lk', 'lkpobox177hp51fl', 'll', 'llc', 'llspeak', 'lmao', 'lnly', 'lo', 'loads', 'loan', 'loans', 'lobby', 'local', 'locations', 'locaxx', 'lock', 'locks', 'lodge', 'lodging', 'log', 'logged', 'logging', 'login', 'logo', 'logoff', 'logos', 'loko', 'lol', 'lolnice', 'lololo', 'london', 'lonely', 'long', 'longer', 'lonlines', 'look', 'looked', 'lookin', 'looking', 'looks', 'lool', 'loooooool', 'loose', 'loosing', 'lor', 'lord', 'lose', 'losers', 'loses', 'losing', 'loss', 'lost', 'lot', 'lotr', 'lots', 'lotsly', 'lotsof', 'lotta', 'lotto', 'lotz', 'lou', 'loud', 'lounge', 'lousy', 'lovable', 'love', 'loved', 'lovejen', 'lovely', 'loveme', 'lover', 'loverboy', 'lovers', 'loves', 'lovin', 'loving', 'lovingly', 'lovly', 'low', 'lower', 'loxahatchee', 'loyal', 'loyalty', 'lrg', 'ls1', 'ls15hb', 'ls278bb', 'lst', 'lt', 'ltd', 'ltdhelpdesk', 'lttrs', 'lubly', 'luck', 'lucky', 'lucozade', 'lucy', 'lucyxx', 'luks', 'lul', 'lunch', 'lunchtime', 'lunsford', 'lush', 'luton', 'luv', 'luvd', 'luvs', 'lux', 'luxury', 'lv', 'lvblefrnd', 'lyk', 'lyrics', 'm100', 'm221bp', 'm227xy', 'm26', 'm263uz', 'm39m51', 'm6', 'm60', 'm8', 'm8s', 'm95', 'ma', 'maaaan', 'maangalyam', 'maat', 'mac', 'macedonia', 'macha', 'machan', 'machi', 'macho', 'mad', 'mad1', 'mad2', 'madam', 'made', 'madodu', 'madoke', 'madstini', 'mag', 'maga', 'magazine', 'maggi', 'magic', 'magical', 'mah', 'mahal', 'maid', 'mail', 'mailbox', 'mailed', 'mails', 'main', 'maintain', 'maintaining', 'major', 'make', 'makes', 'makiing', 'makin', 'making', 'malaria', 'malarky', 'male', 'mall', 'mallika', 'man', 'manage', 'manageable', 'managed', 'management', 'manchester', 'manda', 'mandan', 'mandy', 'maneesha', 'manege', 'mango', 'maniac', 'manky', 'many', 'map', 'mapquest', 'maps', 'maraikara', 'march', 'margaret', 'margin', 'mark', 'market', 'marketing', 'marking', 'marley', 'marriage', 'married', 'marry', 'marsms', 'mary', 'mas', 'masked', 'massage', 'massages', 'massive', 'masteriastering', 'masters', 'mat', 'match', 'matched', 'matches', 'mate', 'mates', 'math', 'mathematics', 'mathews', 'matric', 'matrix3', 'matter', 'matters', 'matthew', 'matured', 'maturity', 'max', 'max10mins', 'max6', 'maximize', 'maximum', 'may', 'mayb', 'maybe', 'mb', 'mca', 'mcat', 'mcfly', 'mcr', 'me', 'meal', 'meals', 'mean', 'meaning', 'meaningless', 'means', 'meant', 'meanwhile', 'measure', 'meatballs', 'mecause', 'med', 'medical', 'medicine', 'meds', 'mee', 'meet', 'meetin', 'meeting', 'meetins', 'meets', 'mega', 'meh', 'mei', 'mel', 'melle', 'melnite', 'melt', 'member', 'members', 'membership', 'memorable', 'memories', 'memory', 'men', 'mens', 'mental', 'mentioned', 'mentionned', 'mentor', 'menu', 'merememberin', 'merry', 'mesages', 'mess', 'message', 'messaged', 'messages', 'messaging', 'messed', 'messenger', 'messy', 'met', 'method', 'mf', 'mfl', 'mgs', 'mi', 'mia', 'michael', 'mid', 'middle', 'midnight', 'mids', 'might', 'miiiiiiissssssssss', 'mike', 'mila', 'miles', 'milk', 'millions', 'min', 'mina', 'minapn', 'mind', 'minded', 'mindset', 'mine', 'minecraft', 'mini', 'minimum', 'minmobsmore', 'minmobsmorelkpobox177hp51fl', 'minmoremobsemspobox45po139wa', 'minnaminunginte', 'minor', 'mins', 'mint', 'minute', 'minutes', 'minuts', 'miracle', 'mirror', 'mis', 'misbehaved', 'miserable', 'misfits', 'mising', 'misplaced', 'miss', 'misscall', 'missed', 'missin', 'missing', 'missionary', 'misss', 'missy', 'mist', 'mistake', 'mistakes', 'mite', 'mitsake', 'mittelschmertz', 'miwa', 'mix', 'mjzgroup', 'mk45', 'ml', 'mm', 'mmm', 'mmmm', 'mmmmm', 'mmmmmm', 'mmmmmmm', 'mns', 'mnth', 'mnths', 'mo', 'moan', 'mob', 'mobcudb', 'mobile', 'mobiles', 'mobilesdirect', 'mobilesvary', 'mobileupd8', 'mobno', 'mobs', 'mobstorequiz10ppm', 'moby', 'mobypobox734ls27yf', 'mode', 'model', 'modl', 'module', 'modules', 'mofo', 'moji', 'mokka', 'mom', 'moment', 'moments', 'moms', 'mon', 'monday', 'money', 'monkeespeople', 'monkeyaround', 'monkeys', 'mono', 'monoc', 'monos', 'monster', 'month', 'monthly', 'monthlysubscription', 'months', 'mood', 'moon', 'moral', 'more', 'morefrmmob', 'morn', 'mornin', 'morning', 'morphine', 'morrow', 'moseley', 'most', 'mostly', 'mother', 'motherfucker', 'motivate', 'motivating', 'motive', 'motor', 'motorola', 'mountain', 'mountains', 'mouse', 'mouth', 'move', 'moved', 'moves', 'movie', 'movies', 'movietrivia', 'moving', 'mp3', 'mquiz', 'mr', 'mrng', 'mrt', 'ms', 'msg', 'msg150p', 'msging', 'msgrcvd', 'msgrcvd18', 'msgrcvdhg', 'msgs', 'msn', 'mt', 'mtalk', 'mth', 'mths', 'mtmsg', 'mtmsg18', 'mtmsgrcvd18', 'mu', 'muah', 'much', 'muchand', 'muchxxlove', 'mudyadhu', 'multimedia', 'multiply', 'multis', 'mum', 'mumhas', 'mummy', 'mums', 'mumtaz', 'munsters', 'murali', 'murder', 'murdered', 'murderer', 'mus', 'mush', 'mushy', 'music', 'musical', 'musicnews', 'must', 'musta', 'musthu', 'mustprovide', 'mutai', 'muz', 'mw', 'my', 'mycalls', 'mylife', 'myparents', 'myself', 'myspace', 'mystery', 'n8', 'n9dx', 'na', 'naal', 'nachos', 'nag', 'nagar', 'nah', 'nails', 'naked', 'nalla', 'name', 'name1', 'name2', 'named', 'names', 'nammanna', 'namous', 'nan', 'nange', 'nanny', 'nannys', 'nap', 'narcotics', 'nasdaq', 'nasty', 'nat', 'nat27081980', 'natalie', 'natalie2k9', 'natalja', 'national', 'nationwide', 'nattil', 'natural', 'nature', 'natwest', 'naughty', 'nauseous', 'nav', 'navigate', 'nb', 'nbme', 'nd', 'ndship', 'ne', 'near', 'nearby', 'nearer', 'nearly', 'necesity', 'necessarily', 'necessary', 'neck', 'necklace', 'ned', 'need', 'needed', 'needle', 'needs', 'needy', 'neekunna', 'neft', 'neglect', 'neighbor', 'neighbors', 'neighbour', 'neither', 'nelson', 'neo69', 'nervous', 'neshanth', 'net', 'netcollex', 'netflix', 'nething', 'netun', 'netvision', 'network', 'networking', 'networks', 'neva', 'nevamind', 'never', 'nevering', 'neville', 'new', 'neway', 'newest', 'newport', 'news', 'newscaster', 'newsletter', 'newspapers', 'next', 'nhs', 'ni8', 'nic', 'nice', 'nichols', 'nick', 'nickey', 'nicky', 'nig', 'nigeria', 'nigh', 'night', 'nightnight', 'nights', 'nigpun', 'nigro', 'nike', 'nikiyu4', 'nimbomsons', 'nimya', 'ninish', 'nino', 'nit', 'nite', 'nitro', 'nitros', 'nmde', 'no', 'no1', 'nobbing', 'nobody', 'noe', 'noi', 'noice', 'noise', 'noisy', 'nokia', 'nokia6600', 'nokia6650', 'nokias', 'noline', 'non', 'noncomittal', 'none', 'nookii', 'noon', 'nooooooo', 'noooooooo', 'nope', 'nor', 'nordstrom', 'norm', 'norm150p', 'normal', 'normally', 'northampton', 'nos', 'nose', 'nosh', 'nosy', 'not', 'note', 'notebook', 'notes', 'nothin', 'nothing', 'notice', 'notified', 'notixiquating', 'nottingham', 'notxt', 'noun', 'novelty', 'november', 'now', 'now1', 'nowadays', 'nowhere', 'noworriesloans', 'nr31', 'nri', 'nt', 'nte', 'ntimate', 'ntt', 'ntwk', 'nuclear', 'nudist', 'nuerologist', 'num', 'number', 'numbers', 'nursery', 'nurses', 'nurungu', 'nus', 'nusstu', 'nuther', 'nutter', 'nvm', 'nw', 'nxt', 'ny', 'nyc', 'nydc', 'nyt', 'nytho', 'nz', 'nìte', 'o2', 'o2fwd', 'obedient', 'obese', 'obey', 'objection', 'oble', 'oblisingately', 'oblivious', 'obviously', 'occasion', 'occupy', 'occur', 'occurs', 'ocean', 'oclock', 'october', 'odi', 'of', 'ofcourse', 'off', 'offc', 'offcampus', 'offdam', 'offense', 'offer', 'offering', 'offers', 'office', 'official', 'officially', 'offline', 'ofice', 'ofsi', 'often', 'oga', 'oh', 'oi', 'oic', 'oil', 'oja', 'ok', 'okay', 'okden', 'okey', 'okie', 'okies', 'okmail', 'ola', 'old', 'oli', 'ollu', 'olol', 'olowoyey', 'olympics', 'omg', 'omw', 'on', 'onam', 'onbus', 'oncall', 'once', 'one', 'ones', 'oni', 'onion', 'online', 'onluy', 'only', 'only1more', 'onlyfound', 'onto', 'onum', 'onwards', 'ooh', 'oooh', 'oooooh', 'oops', 'open', 'opener', 'opening', 'openings', 'operator', 'opinion', 'opinions', 'opponenter', 'opportunity', 'opposed', 'opposite', 'opps', 'opt', 'opted', 'optimistic', 'optin', 'option', 'optout', 'or', 'or2stoptxt', 'orange', 'oranges', 'orc', 'orchard', 'order', 'ordered', 'ordinator', 'ore', 'oredi', 'oreo', 'oreos', 'org', 'organise', 'original', 'orno', 'ortxt', 'oru', 'os', 'oscar', 'oso', 'other', 'others', 'otherwise', 'othrwise', 'otside', 'our', 'ourbacks', 'out', 'outage', 'outages', 'outfit', 'outfor', 'outgoing', 'outl8r', 'outrageous', 'outreach', 'outside', 'outsomewhere', 'outstanding', 'outta', 'ovarian', 'oveable', 'over', 'overa', 'overdid', 'overdose', 'overemphasise', 'overtime', 'ovulate', 'ovulation', 'ow', 'owe', 'owl', 'own', 'owned', 'owns', 'owo', 'oyea', 'oyster', 'oz', 'pa', 'paces', 'pack', 'package', 'packing', 'packs', 'padhe', 'page', 'pages', 'pai', 'paid', 'pain', 'painful', 'paining', 'painting', 'pairs', 'pale', 'pan', 'panalam', 'panasonic', 'pandy', 'panic', 'panicks', 'panren', 'pansy', 'panther', 'pap', 'paper', 'papers', 'paperwork', 'paracetamol', 'parachute', 'paragon', 'parantella', 'parchi', 'parco', 'parents', 'paris', 'parish', 'park', 'parked', 'parkin', 'parking', 'part', 'participate', 'particular', 'particularly', 'parties', 'partner', 'partnership', 'parts', 'party', 'paru', 'pases', 'pass', 'passable', 'passed', 'passes', 'passionate', 'passport', 'password', 'passwords', 'past', 'pataistha', 'path', 'pathaya', 'paths', 'patrick', 'patty', 'paul', 'pause', 'pax', 'pay', 'payback', 'payed', 'payed2day', 'payee', 'paying', 'payment', 'payoh', 'paypal', 'pc', 'pc1323', 'peace', 'peaceful', 'peach', 'peak', 'pee', 'peeps', 'pei', 'pen', 'pence', 'pendent', 'pending', 'penis', 'people', 'peoples', 'per', 'percent', 'perf', 'perfect', 'perform', 'performance', 'performed', 'perfume', 'perhaps', 'period', 'peripherals', 'permanent', 'permissions', 'perpetual', 'persian', 'persolvo', 'person', 'personal', 'personality', 'personally', 'persons', 'perspective', 'pert', 'perumbavoor', 'pesky', 'pete', 'petexxx', 'petey', 'petrol', 'petticoatdreams', 'pg', 'ph', 'pharmacy', 'phd', 'phews', 'phil', 'philosophical', 'philosophy', 'phne', 'phoenix', 'phone', 'phone750', 'phonebook', 'phoned', 'phones', 'photo', 'photos', 'php', 'phrase', 'phyhcmk', 'physics', 'piah', 'pic', 'pick', 'picked', 'picking', 'pickle', 'pics', 'picture', 'pictures', 'pie', 'piece', 'pieces', 'pierre', 'pig', 'piggy', 'pilates', 'pile', 'pimples', 'pin', 'pink', 'pints', 'pisces', 'piss', 'pissed', 'pity', 'pix', 'pixels', 'pizza', 'place', 'placed', 'placement', 'places', 'plan', 'plane', 'planet', 'planettalkinstant', 'planned', 'planning', 'plans', 'plate', 'platt', 'play', 'played', 'player', 'players', 'plaza', 'pleasant', 'please', 'pleased', 'pleasure', 'pleasured', 'plenty', 'plm', 'ploughing', 'pls', 'plum', 'plumbers', 'plural', 'plus', 'plz', 'pm', 'pmt', 'po', 'po19', 'pobox', 'pobox114', 'pobox12n146tf15', 'pobox12n146tf150p', 'pobox202', 'pobox334', 'pobox36504w45wq', 'pobox365o4w45wq', 'pobox45w2tg150p', 'pobox75ldns7', 'pobox84', 'poboxox36504w45wq', 'pocay', 'pocketbabe', 'pockets', 'pocy', 'pod', 'poem', 'poet', 'point', 'points', 'poker', 'poking', 'police', 'politicians', 'polo', 'poly', 'poly3', 'polyc', 'polyh', 'polyph', 'polyphonic', 'polys', 'pongal', 'ponnungale', 'poo', 'pooja', 'pookie', 'pool', 'poop', 'poor', 'poorly', 'pop', 'popcorn', 'popped', 'popping', 'porn', 'porridge', 'port', 'portege', 'portions', 'pos', 'posh', 'posible', 'position', 'positions', 'possession', 'possessive', 'possessiveness', 'possibility', 'possible', 'post', 'postal', 'postcard', 'postcode', 'posted', 'posts', 'potato', 'potential', 'potter', 'pouch', 'pound', 'pounds', 'poured', 'pours', 'pouts', 'power', 'powerful', 'poyyarikatur', 'ppl', 'pple', 'ppm', 'ppm150', 'ppt150x3', 'prabha', 'prabu', 'pract', 'practical', 'practice', 'practicing', 'practicum', 'practising', 'praises', 'prakasam', 'prakasamanu', 'prakesh', 'praps', 'prasad', 'prasanth', 'praveesh', 'pray', 'praying', 'prayrs', 'predicte', 'prediction', 'predictive', 'prefer', 'preferably', 'prem', 'premarica', 'premier', 'premium', 'prepare', 'prepared', 'prepayment', 'preponed', 'preschoolco', 'prescribed', 'prescription', 'presence', 'present', 'presents', 'presnts', 'press', 'pressies', 'pretend', 'pretsorginta', 'pretsovru', 'pretty', 'prevent', 'previews', 'previous', 'previously', 'prey', 'price', 'pride', 'priest', 'prin', 'prince', 'princess', 'printed', 'printer', 'printing', 'prior', 'priority', 'priscilla', 'privacy', 'private', 'prix', 'prize', 'prizeawaiting', 'prizes', 'prizeswith', 'pro', 'prob', 'probably', 'problem', 'problematic', 'problems', 'problms', 'probpop', 'probs', 'probthat', 'process', 'processed', 'prods', 'products', 'professors', 'profile', 'profiles', 'profit', 'program', 'progress', 'project', 'projects', 'prolly', 'prometazine', 'promise', 'promised', 'promises', 'promo', 'promoting', 'promotion', 'prompts', 'prone', 'proof', 'proove', 'properly', 'property', 'propose', 'props', 'propsd', 'pros', 'prospects', 'protect', 'prove', 'proverb', 'provided', 'provider', 'providing', 'province', 'prsn', 'ps', 'ps3', 'psxtra', 'psychic', 'pt2', 'ptbo', 'pthis', 'pub', 'public', 'pull', 'pulling', 'punch', 'punish', 'punishment', 'punj', 'punto', 'puppy', 'pura', 'purchase', 'pure', 'purity', 'purple', 'purpose', 'purse', 'push', 'pushbutton', 'pushes', 'pussy', 'put', 'puts', 'puttin', 'putting', 'puzzles', 'px3748', 'qatar', 'qbank', 'qet', 'qi', 'qjkgighjjgcbl', 'qlynnbv', 'quality', 'quarter', 'que', 'queen', 'queries', 'ques', 'question', 'questioned', 'questions', 'quick', 'quickly', 'quiet', 'quit', 'quite', 'quiteamuzing', 'quitting', 'quiz', 'quizclub', 'quizzes', 'quote', 'quoting', 'r836', 'racal', 'racing', 'radio', 'raed', 'rael', 'raglan', 'rahul', 'raiden', 'railway', 'rain', 'raining', 'raise', 'rajas', 'raji', 'rajini', 'rajnikant', 'rakhesh', 'raksha', 'rally', 'ramen', 'ran', 'random', 'randomlly', 'randomly', 'randy', 'rang', 'range', 'ranjith', 'raping', 'rate', 'rates', 'rather', 'ratio', 'rats', 'raviyog', 'rawring', 'rays', 'rcb', 'rct', 'rcv', 'rcvd', 'rd', 'rdy', 're', 'reach', 'reache', 'reached', 'reaching', 'reacting', 'reaction', 'read', 'readers', 'readiness', 'reading', 'ready', 'real', 'real1', 'realise', 'realised', 'realising', 'reality', 'realize', 'realized', 'really', 'reallyneed', 'realy', 'rearrange', 'reason', 'reasonable', 'reasons', 'reassuring', 'reboot', 'rebooting', 'rebtel', 'rec', 'recd', 'receipt', 'receipts', 'receive', 'receivea', 'received', 'receiving', 'recent', 'recently', 'reception', 'recession', 'recieve', 'recognise', 'recognises', 'record', 'recorder', 'records', 'recount', 'recovery', 'recpt', 'recreation', 'recycling', 'red', 'redeemable', 'redeemed', 'reduce', 'ree', 'ref', 'reference', 'references', 'referin', 'reffering', 'reflection', 'reflex', 'refreshed', 'refund', 'refunded', 'refused', 'reg', 'regard', 'regarding', 'regards', 'register', 'registered', 'registration', 'regret', 'regretted', 'regular', 'rejected', 'related', 'relation', 'relatives', 'relax', 'relaxing', 'released', 'relieved', 'religiously', 'relocate', 'reltnship', 'rem', 'remain', 'remains', 'remb', 'remember', 'remembered', 'remembr', 'remembrs', 'remind', 'reminded', 'reminder', 'reminding', 'reminds', 'remove', 'removed', 'rencontre', 'renewal', 'renewed', 'renewing', 'rent', 'rental', 'rentl', 'rents', 'repair', 'repairs', 'repeat', 'repeating', 'repent', 'replace', 'replacement', 'replacing', 'replied', 'replies', 'reply', 'replying', 'replys150', 'report', 'representative', 'request', 'requests', 'require', 'research', 'resend', 'resent', 'reservations', 'reserve', 'reserved', 'reserves', 'residency', 'resizing', 'respect', 'respectful', 'responce', 'respond', 'responding', 'response', 'responsibility', 'responsible', 'rest', 'restaurant', 'restock', 'restrict', 'restrictions', 'resubbing', 'resubmit', 'result', 'results', 'resume', 'retard', 'retired', 'retrieve', 'return', 'returned', 'returning', 'returns', 'reunion', 'reveal', 'revealed', 'revealing', 'reverse', 'review', 'revision', 'reward', 'rewarding', 'rg21', 'rgds', 'rgent', 'rice', 'rich', 'riddance', 'ride', 'right', 'rightio', 'rights', 'riley', 'rimac', 'ring', 'ringing', 'rings', 'ringtone', 'ringtoneking', 'ringtones', 'rip', 'ripped', 'rise', 'risk', 'risks', 'rite', 'ritten', 'river', 'road', 'roads', 'roast', 'robs', 'rock', 'rocking', 'rocks', 'rodds1', 'rodger', 'rofl', 'roger', 'role', 'roles', 'rolled', 'romantic', 'romcapspam', 'ron', 'room', 'roommate', 'roommates', 'rooms', 'ros', 'rose', 'roses', 'rough', 'round', 'rounds', 'row', 'rowdy', 'rows', 'royal', 'rpl', 'rply', 'rr', 'rs', 'rstm', 'rt', 'rtm', 'rto', 'ru', 'rub', 'rubber', 'rude', 'rudi', 'rugby', 'ruin', 'ruining', 'rule', 'rules', 'rum', 'rumbling', 'rummer', 'rumour', 'run', 'running', 'runs', 'rupaul', 'rush', 'rushing', 'ruthful', 'rv', 'rvx', 'rwm', 'ryan', 'ryder', 's3xy', 's89', 'sabarish', 'sac', 'sachin', 'sack', 'sad', 'sae', 'saeed', 'safe', 'safety', 'sagamu', 'saibaba', 'said', 'sake', 'salad', 'salam', 'salary', 'sale', 'sall', 'salon', 'salt', 'sam', 'sambar', 'same', 'samus', 'sandiago', 'sang', 'sao', 'sapna', 'sar', 'sara', 'sarcasm', 'sarcastic', 'saristar', 'sariyag', 'sary', 'sashimi', 'sat', 'satanic', 'sathy', 'sathya', 'satisfied', 'satisfy', 'satthen', 'saturday', 'saucy', 'sausage', 'savamob', 'save', 'saved', 'saves', 'savings', 'saw', 'say', 'sayhey', 'sayin', 'saying', 'says', 'sayy', 'sc', 'scallies', 'scammers', 'scared', 'scary', 'scenario', 'scenery', 'sch', 'schedule', 'school', 'schools', 'science', 'scold', 'scool', 'scorable', 'score', 'scores', 'scoring', 'scotch', 'scotland', 'scotsman', 'scouse', 'scraped', 'scrappy', 'scratching', 'scream', 'screamed', 'screaming', 'screen', 'screwd', 'scrounge', 'sculpture', 'sd', 'sea', 'search', 'searching', 'season', 'seat', 'sec', 'second', 'seconds', 'secret', 'secretary', 'secretly', 'secrets', 'secs', 'section', 'secure', 'secured', 'sed', 'see', 'seeds', 'seeing', 'seekers', 'seeking', 'seem', 'seemed', 'seems', 'seen', 'sef', 'seh', 'sehwag', 'selected', 'selection', 'self', 'selfindependence', 'selfish', 'sell', 'selling', 'sells', 'semester', 'semi', 'sen', 'send', 'sender', 'sending', 'sends', 'senrd', 'sense', 'senses', 'sensible', 'sensitive', 'sent', 'sentence', 'senthil', 'sentiment', 'sept', 'serena', 'series', 'serious', 'seriously', 'server', 'service', 'services', 'serving', 'servs', 'set', 'settings', 'settle', 'settled', 'settling', 'seven', 'seventeen', 'several', 'sex', 'sexiest', 'sexual', 'sexy', 'sexychat', 'sf', 'sg', 'sh', 'sha', 'shade', 'shagged', 'shah', 'shahjahan', 'shake', 'shakespeare', 'shaking', 'shall', 'shame', 'shampain', 'shangela', 'shanghai', 'shanil', 'share', 'shared', 'sharing', 'shattered', 'shaved', 'shd', 'she', 'sheets', 'sheffield', 'shelf', 'shelves', 'sherawat', 'shes', 'shesil', 'shexy', 'shijas', 'shijutta', 'shindig', 'shining', 'shiny', 'ship', 'shipped', 'shirt', 'shirts', 'shit', 'shite', 'shitin', 'shitinnit', 'shitload', 'shitstorm', 'shld', 'shldxxxx', 'shock', 'shocking', 'shoes', 'shola', 'shoot', 'shop', 'shoppin', 'shopping', 'shoranur', 'shore', 'short', 'shortage', 'shortbreaks', 'shortcode', 'shorter', 'shortly', 'shorts', 'shot', 'should', 'shoulders', 'shouldn', 'shouted', 'shouting', 'shove', 'shoving', 'show', 'showed', 'shower', 'showered', 'showers', 'showing', 'showr', 'shows', 'shracomorsglsuplt', 'shrek', 'shrink', 'shrub', 'shsex', 'shu', 'shud', 'shudvetold', 'shuhui', 'shun', 'shut', 'shy', 'si', 'sian', 'sib', 'sic', 'sick', 'sickness', 'side', 'sigh', 'sighs', 'sight', 'sign', 'signal', 'significant', 'signing', 'silence', 'silent', 'silently', 'silly', 'silver', 'sim', 'simple', 'simpler', 'simply', 'simpsons', 'simulate', 'since', 'sinco', 'sing', 'singapore', 'singing', 'single', 'singles', 'sink', 'sip', 'sipix', 'sips', 'sir', 'sirji', 'sis', 'sister', 'sit', 'site', 'sitll', 'sitter', 'sitting', 'situation', 'situations', 'siva', 'six', 'size', 'sized', 'sk3', 'sk38xh', 'skilgme', 'skillgame', 'skills', 'skins', 'skip', 'sky', 'skye', 'skype', 'skyped', 'skyving', 'slaaaaave', 'slacking', 'slap', 'slave', 'sleep', 'sleepin', 'sleeping', 'sleepingwith', 'sleepwell', 'slept', 'slice', 'slide', 'slightly', 'slippers', 'slippery', 'slob', 'slots', 'slow', 'slower', 'slowing', 'slowly', 'slp', 'slurp', 'smacks', 'small', 'smart', 'smarter', 'smash', 'smashed', 'smear', 'smell', 'smells', 'smeone', 'smidgin', 'smile', 'smiled', 'smiles', 'smiley', 'smiling', 'smith', 'smoke', 'smoked', 'smokes', 'smokin', 'smoking', 'smoothly', 'sms', 'smsco', 'smsing', 'smth', 'sn', 'snake', 'snap', 'snappy', 'snatch', 'snd', 'sneham', 'snogs', 'snoring', 'snow', 'snowball', 'snowboarding', 'snowman', 'snuggles', 'so', 'social', 'sofa', 'soft', 'software', 'soil', 'soiree', 'sol', 'soladha', 'sold', 'solihull', 'solve', 'some', 'some1', 'somebody', 'someday', 'someone', 'someplace', 'somerset', 'sometext', 'somethin', 'something', 'sometime', 'sometimes', 'sometme', 'somewhat', 'somewhere', 'somewhr', 'somtimes', 'sonathaya', 'sonetimes', 'song', 'songs', 'sony', 'sonyericsson', 'soo', 'soon', 'sooner', 'soonlots', 'soooo', 'sooooo', 'sore', 'sorrow', 'sorrows', 'sorry', 'sort', 'sorta', 'sorted', 'sorting', 'sorts', 'sory', 'soryda', 'sos', 'soul', 'sound', 'sounds', 'soundtrack', 'soup', 'source', 'sources', 'south', 'southern', 'souveniers', 'soz', 'sozi', 'sp', 'space', 'spacebucks', 'spaces', 'spageddies', 'spain', 'spam', 'spanish', 'spare', 'spark', 'sparkling', 'spatula', 'speak', 'speaking', 'special', 'speciale', 'specialise', 'specially', 'specific', 'specify', 'specs', 'speechless', 'speed', 'speeding', 'speling', 'spell', 'spelled', 'spelling', 'spend', 'spending', 'spent', 'spiffing', 'spile', 'spin', 'spinout', 'spiral', 'spirit', 'spjanuary', 'spk', 'spl', 'splat', 'splendid', 'split', 'splleing', 'spoil', 'spoiled', 'spoilt', 'spoke', 'spoken', 'sponsors', 'spontaneously', 'spook', 'sporadically', 'sport', 'sports', 'spose', 'spotty', 'spouse', 'spreadsheet', 'spree', 'spring', 'springs', 'sprint', 'sptv', 'spun', 'spys', 'sq825', 'squatting', 'squeeeeeze', 'squeezed', 'squid', 'srs', 'srt', 'sry', 'st', 'stability', 'stable', 'stadium', 'staff', 'stage', 'stairs', 'stalk', 'stamps', 'stand', 'standard', 'standing', 'stapati', 'starer', 'staring', 'stars', 'starshine', 'start', 'started', 'starting', 'starts', 'starve', 'starving', 'starwars3', 'stash', 'statement', 'statements', 'station', 'status', 'stay', 'stayed', 'stayin', 'staying', 'stays', 'std', 'stdtxtrate', 'steak', 'steal', 'stealing', 'steam', 'steamboat', 'steed', 'steering', 'step', 'steps', 'stereo', 'stereophonics', 'sterling', 'steve', 'steyn', 'sth', 'stick', 'sticky', 'still', 'stitch', 'stock', 'stockport', 'stolen', 'stomach', 'stomps', 'stone', 'stoners', 'stones', 'stop', 'stop2', 'stop2stop', 'stopbcm', 'stopcost', 'stopcs', 'stopped', 'stops', 'stopsms', 'stoptxtstop', 'store', 'stores', 'stories', 'storming', 'story', 'str', 'straight', 'strain', 'strange', 'stream', 'street', 'stress', 'stressed', 'stressful', 'stressfull', 'stretch', 'strict', 'strike', 'strip', 'strips', 'strokes', 'strong', 'strt', 'strtd', 'sts', 'stu', 'stuck', 'student', 'students', 'studies', 'studio', 'study', 'studying', 'stuff', 'stuff42moro', 'stuffed', 'stuffing', 'stuffs', 'stunning', 'stupid', 'style', 'styles', 'styling', 'stylish', 'sub', 'subject', 'subletting', 'submitted', 'submitting', 'subpoly', 'subs', 'subs16', 'subscribe', 'subscribe6gbp', 'subscribed', 'subscriber', 'subscription', 'subscriptions', 'subsequent', 'subtoitles', 'success', 'successful', 'successfully', 'such', 'sucks', 'sudden', 'suddenly', 'suffer', 'suffers', 'sufficient', 'sugababes', 'suganya', 'sugar', 'sugardad', 'suggestion', 'suggestions', 'suite', 'suite342', 'suitemates', 'suits', 'sullivan', 'sum', 'sum1', 'sumfing', 'summer', 'summers', 'summon', 'sumthin', 'sun', 'sun0819', 'sunday', 'sundayish', 'sunny', 'sunroof', 'sunshine', 'suntec', 'sup', 'super', 'superb', 'superior', 'supervisor', 'suply', 'supose', 'suppliers', 'supplies', 'supply', 'support', 'supports', 'suppose', 'supposed', 'suprman', 'sura', 'sure', 'surely', 'surf', 'surfing', 'surgical', 'surname', 'surprise', 'surprised', 'surrounded', 'survey', 'sutra', 'sux', 'suzy', 'svc', 'sw7', 'sw73ss', 'swalpa', 'swan', 'swashbuckling', 'swatch', 'sway', 'swayze', 'swear', 'sweater', 'sweatter', 'sweet', 'sweetest', 'sweetheart', 'sweetie', 'sweets', 'swhrt', 'swimming', 'swing', 'swiss', 'switch', 'swollen', 'swoop', 'swt', 'swtheart', 'syllabus', 'symbol', 'symptoms', 'synced', 'syria', 'syrup', 'system', 'systems', 't4get2text', 'ta', 'table', 'tablet', 'tablets', 'tackle', 'tacos', 'tactful', 'tai', 'tait', 'taj', 'take', 'takecare', 'taken', 'takes', 'takin', 'taking', 'talent', 'talents', 'talk', 'talkbut', 'talked', 'talking', 'talks', 'tallent', 'tamilnadu', 'tampa', 'tank', 'tantrum', 'tap', 'tape', 'tariffs', 'tarot', 'tarpon', 'taste', 'tasts', 'tat', 'tata', 'tats', 'tattoos', 'tau', 'taught', 'taunton', 'taxes', 'taxi', 'taxless', 'taxt', 'taylor', 'tayseer', 'tb', 'tbs', 'tc', 'tcr', 'tcs', 'tddnewsletter', 'tea', 'teach', 'teacher', 'teaches', 'teaching', 'team', 'teams', 'tear', 'tears', 'tease', 'teasing', 'tech', 'technical', 'technologies', 'tee', 'teenager', 'teeth', 'teju', 'tel', 'telediscount', 'telephone', 'teletext', 'tell', 'telling', 'tellmiss', 'tells', 'telly', 'telphone', 'telugu', 'temales', 'temp', 'temple', 'ten', 'tenants', 'tendencies', 'tenerife', 'tension', 'teresa', 'term', 'terminated', 'terms', 'ternal', 'terrible', 'terrific', 'terrorist', 'terry', 'tescos', 'tessy', 'test', 'testing', 'tests', 'tex', 'text', 'text82228', 'textand', 'textbook', 'textbuddy', 'textcomp', 'texted', 'textin', 'texting', 'textoperator', 'textpod', 'texts', 'th', 'than', 'thandiyachu', 'thangam', 'thank', 'thanks', 'thanksgiving', 'thanku', 'thankyou', 'thanx', 'thanx4', 'thasa', 'that', 'that2worzels', 'thatmum', 'thats', 'the', 'the4th', 'theacusations', 'theatre', 'thecd', 'thedailydraw', 'their', 'theirs', 'thekingshead', 'them', 'themed', 'themes', 'themob', 'then', 'thenampet', 'theoretically', 'theory', 'theplace', 'there', 'theres', 'these', 'thesis', 'thesmszone', 'thew', 'they', 'theyre', 'thgt', 'thia', 'thing', 'things', 'think', 'thinked', 'thinkin', 'thinking', 'thinks', 'thinl', 'thirtyeight', 'thirunelvali', 'this', 'thk', 'thkin', 'thm', 'thnk', 'thnq', 'thnx', 'tho', 'those', 'thot', 'thou', 'though', 'thought', 'thoughts', 'thousands', 'thout', 'thread', 'threats', 'three', 'threw', 'thriller', 'throat', 'through', 'throw', 'throwin', 'throwing', 'throws', 'thru', 'ths', 'tht', 'thts', 'thurs', 'thursday', 'thx', 'thy', 'tick', 'ticket', 'tickets', 'tie', 'tiempo', 'tight', 'tightly', 'tigress', 'tihs', 'tiime', 'til', 'till', 'tim', 'time', 'times', 'timin', 'timing', 'tiny', 'tips', 'tired', 'tiring', 'tirunelvai', 'tirunelvali', 'tirupur', 'tis', 'tissco', 'title', 'titles', 'tiwary', 'tix', 'tkls', 'tkts', 'tlk', 'tlp', 'tm', 'tming', 'tmorow', 'tmorrow', 'tmr', 'tmrw', 'tms', 'tmw', 'tnc', 'tncs', 'to', 'toa', 'toaday', 'tobacco', 'tocall', 'toclaim', 'today', 'todays', 'todo', 'tog', 'together', 'toilet', 'tok', 'tol', 'told', 'toledo', 'tolerance', 'toll', 'tom', 'tomarrow', 'tome', 'tomeandsaid', 'tomo', 'tomorro', 'tomorrow', 'tomorw', 'tone', 'tones', 'tones2u', 'tones2you', 'tonexs', 'tonght', 'tonight', 'tonights', 'tonite', 'tons', 'tonsolitusaswell', 'too', 'took', 'tool', 'tooo', 'toot', 'tooth', 'toothpaste', 'top', 'topic', 'toplay', 'tops', 'tor', 'torch', 'torrents', 'tortilla', 'torture', 'toshiba', 'tot', 'total', 'totally', 'totes', 'touch', 'touched', 'tough', 'tour', 'towards', 'town', 'toxic', 'tp', 'track', 'trade', 'traditions', 'traffic', 'train', 'training', 'trainners', 'trains', 'tranquility', 'transaction', 'transcribing', 'transfer', 'transfered', 'transferred', 'transfr', 'transfred', 'transport', 'trash', 'trauma', 'trav', 'travel', 'traveling', 'travelled', 'travelling', 'treacle', 'treadmill', 'treasure', 'treat', 'treated', 'treatin', 'treats', 'trebles', 'tree', 'trek', 'trends', 'trial', 'tried', 'trip', 'triple', 'trips', 'triumphed', 'trivia', 'trouble', 'trouser', 'truble', 'truck', 'true', 'true18', 'truffles', 'truly', 'truro', 'trust', 'trusting', 'truth', 'try', 'trying', 'ts', 'tsandcs', 'tscs', 'tscs08714740323', 'tscs087147403231winawk', 'tsunamis', 'tt', 'ttyl', 'tue', 'tues', 'tuesday', 'tui', 'tuition', 'tul', 'tulip', 'tunde', 'turn', 'turned', 'turning', 'turns', 'tuth', 'tv', 'twat', 'twelve', 'twenty', 'twice', 'twiggs', 'twilight', 'twinks', 'twins', 'twittering', 'two', 'tx', 'txt', 'txt250', 'txt43', 'txt82228', 'txtauction', 'txtin', 'txting', 'txtno', 'txts', 'txtstar', 'txtstop', 'txttowin', 'txtx', 'tyler', 'type', 'types', 'typical', 'tyrone', 'u2moro', 'u4', 'uawake', 'ubandu', 'ubi', 'ugh', 'ugo', 'uh', 'uhhhhrmm', 'uin', 'ujhhhhhhh', 'uk', 'uks', 'ultimately', 'ultimatum', 'um', 'umma', 'ummifying', 'ummma', 'ummmmmaah', 'un', 'unable', 'unbelievable', 'unbreakable', 'unclaimed', 'uncle', 'uncles', 'uncomfortable', 'unconscious', 'unconvinced', 'uncountable', 'uncut', 'under', 'underdtand', 'understand', 'understanding', 'understood', 'undrstndng', 'unemployed', 'uneventful', 'unfolds', 'unfortunately', 'unfortuntly', 'unhappiness', 'uni', 'uniform', 'unintentionally', 'unique', 'united', 'units', 'univ', 'university', 'unjalur', 'unkempt', 'unknown', 'unless', 'unlimited', 'unmits', 'unnecessarily', 'unredeemed', 'unsecured', 'unsold', 'unsub', 'unsubscribe', 'unsubscribed', 'untamed', 'until', 'unusual', 'up', 'up4', 'upcharge', 'upd8', 'updat', 'update', 'update_now', 'upgrade', 'upgrading', 'upgrdcentre', 'upload', 'uploaded', 'upon', 'upping', 'upset', 'upstairs', 'upto', 'uptown', 'ur', 'urawinner', 'ure', 'urfeeling', 'urgent', 'urgently', 'urgh', 'urgnt', 'urgoin', 'urgran', 'urination', 'url', 'urn', 'urself', 'us', 'usa', 'usb', 'usc', 'use', 'used', 'useful', 'useless', 'user', 'uses', 'usf', 'using', 'usmle', 'usual', 'usually', 'uterus', 'utter', 'uttered', 'uup', 'uwant', 'uworld', 'va', 'vaazhthukkal', 'vaguely', 'vale', 'valentine', 'valentines', 'valid', 'valid12hrs', 'valuable', 'value', 'valued', 'values', 'varaya', 'various', 'varma', 'varunnathu', 'vary', 'vasai', 'vat', 'vatian', 'vava', 'vco', 'vday', 've', 'vegas', 'vegetables', 'veggie', 'vehicle', 'velachery', 'velly', 'venugopal', 'verified', 'verify', 'verifying', 'version', 'versus', 'very', 'vettam', 'vewy', 'via', 'vibrant', 'vibrate', 'vibrator', 'victoria', 'vid', 'video', 'videochat', 'videophones', 'videos', 'videosound', 'videosounds', 'view', 'vijay', 'vikky', 'vill', 'villa', 'village', 'violated', 'violence', 'violet', 'vip', 'virgil', 'virgin', 'virgins', 'virtual', 'visa', 'visionsms', 'visit', 'visiting', 'visitors', 'vital', 'vitamin', 'vivek', 'vivekanand', 'vl', 'voda', 'vodafone', 'vodka', 'voice', 'voicemail', 'voila', 'volcanoes', 'vomit', 'vomiting', 'vote', 'vouch4me', 'voucher', 'vouchers', 'vpod', 'vry', 'vs', 'vth', 'vu', 'w1', 'w111wx', 'w1j', 'w1j6hl', 'w1jhl', 'w1t1jy', 'w4', 'w45wq', 'w8in', 'wa', 'waaaat', 'wad', 'wadebridge', 'wah', 'wahala', 'wahay', 'waheed', 'waheeda', 'waht', 'wait', 'waited', 'waitin', 'waiting', 'wake', 'waking', 'wales', 'waliking', 'walk', 'walkabout', 'walked', 'walkin', 'walking', 'walks', 'wall', 'wallet', 'wallpaper', 'walls', 'walmart', 'walsall', 'wamma', 'wan', 'wan2', 'wana', 'wanna', 'wannatell', 'want', 'want2come', 'wanted', 'wanting', 'wants', 'wap', 'warm', 'warming', 'warned', 'warning', 'warranty', 'warwick', 'was', 'washob', 'wasn', 'waste', 'wasted', 'wasting', 'wat', 'watch', 'watchin', 'watching', 'water', 'watever', 'watevr', 'wating', 'watr', 'wats', 'watts', 'waves', 'way', 'wc1n3xx', 'we', 'weak', 'weakness', 'weapon', 'wear', 'wearing', 'weaseling', 'weasels', 'weather', 'web', 'web2mobile', 'webeburnin', 'webpage', 'website', 'wed', 'wedding', 'weddingfriend', 'wedlunch', 'wednesday', 'weds', 'wee', 'weed', 'week', 'weekdays', 'weekend', 'weekends', 'weekly', 'weeks', 'weigh', 'weighed', 'weight', 'weightloss', 'weird', 'weirdest', 'weirdo', 'weirdy', 'weiyi', 'welcome', 'welcomes', 'well', 'welp', 'wen', 'wendy', 'wenever', 'went', 'wenwecan', 'wer', 'were', 'werebored', 'weren', 'werethe', 'wesley', 'wesleys', 'western', 'westlife', 'westonzoyland', 'wet', 'wetherspoons', 'whassup', 'what', 'whatever', 'whats', 'whatsup', 'wheat', 'wheel', 'wheellock', 'when', 'whenever', 'whenevr', 'whens', 'where', 'whereare', 'wherever', 'whether', 'which', 'while', 'whilltake', 'whispers', 'white', 'whn', 'who', 'whole', 'whom', 'whore', 'whos', 'whose', 'whr', 'why', 'wi', 'wicket', 'wid', 'widelive', 'wif', 'wife', 'wifes', 'wifi', 'wihtuot', 'wikipedia', 'wil', 'wild', 'wildlife', 'will', 'willing', 'willpower', 'win', 'win150ppmx3age16', 'window', 'windows', 'windy', 'wine', 'wined', 'wings', 'wining', 'winner', 'winnersclub', 'winning', 'wins', 'wipe', 'wipro', 'wire3', 'wisdom', 'wise', 'wish', 'wishes', 'wishin', 'wishing', 'wishlist', 'wiskey', 'wit', 'with', 'withdraw', 'within', 'without', 'witin', 'witot', 'witout', 'wiv', 'wizzle', 'wk', 'wkend', 'wkent', 'wkg', 'wkly', 'wknd', 'wks', 'wlcome', 'wld', 'wml', 'wn', 'wnevr', 'wnt', 'woah', 'wocay', 'woke', 'woken', 'woman', 'women', 'won', 'wondar', 'wondarfull', 'wonder', 'wonderful', 'wondering', 'wonders', 'wont', 'woo', 'woodland', 'woohoo', 'woot', 'woozles', 'worc', 'word', 'words', 'work', 'workage', 'workand', 'workin', 'working', 'workout', 'works', 'world', 'worlds', 'worms', 'worried', 'worries', 'worry', 'worrying', 'worse', 'worst', 'worth', 'worthless', 'wot', 'wotu', 'wotz', 'would', 'woulda', 'wouldn', 'wounds', 'wow', 'wrc', 'wrecked', 'wrench', 'wrenching', 'wright', 'write', 'writhing', 'wrk', 'wrkin', 'wrking', 'wrks', 'wrld', 'wrnog', 'wrong', 'wrote', 'ws', 'wt', 'wtc', 'wtf', 'wth', 'wthout', 'wtlp', 'wud', 'wudn', 'wuld', 'wuldnt', 'wun', 'www', 'wylie', 'x2', 'x29', 'x49', 'xafter', 'xam', 'xavier', 'xchat', 'xclusive', 'xin', 'xmas', 'xoxo', 'xt', 'xuhui', 'xx', 'xxsp', 'xxx', 'xxxmobilemovieclub', 'xxxx', 'xxxxx', 'xxxxxx', 'xxxxxxx', 'xxxxxxxx', 'xy', 'y87', 'ya', 'yah', 'yahoo', 'yalrigu', 'yam', 'yan', 'yar', 'yarasu', 'yards', 'yaxx', 'yay', 'yck', 'yeah', 'year', 'years', 'yeesh', 'yeh', 'yelling', 'yellow', 'yelow', 'yen', 'yeovil', 'yep', 'yer', 'yes', 'yest', 'yesterday', 'yet', 'yetunde', 'yifeng', 'yijue', 'ym', 'ymca', 'yo', 'yoga', 'yogasana', 'yor', 'yorge', 'you', 'youdoing', 'young', 'younger', 'youphone', 'your', 'youre', 'yourjob', 'yours', 'yourself', 'youuuuu', 'youwanna', 'yowifes', 'yoyyooo', 'yr', 'yrs', 'ystrday', 'ything', 'yummmm', 'yummy', 'yun', 'yunny', 'yuo', 'yup', 'yupz', 'zac', 'zaher', 'zealand', 'zebra', 'zed', 'zeros', 'zoe', 'zogtorius', 'zoom', 'zouk', 'èn', 'ú1']\n"
     ]
    },
    {
     "name": "stderr",
     "output_type": "stream",
     "text": [
      "C:\\Users\\rajan\\anaconda3\\lib\\site-packages\\sklearn\\utils\\deprecation.py:87: FutureWarning: Function get_feature_names is deprecated; get_feature_names is deprecated in 1.0 and will be removed in 1.2. Please use get_feature_names_out instead.\n",
      "  warnings.warn(msg, category=FutureWarning)\n"
     ]
    }
   ],
   "source": [
    "print(v.get_feature_names()) # it gives all the unique words present in the x_train"
   ]
  },
  {
   "cell_type": "code",
   "execution_count": 18,
   "id": "aa6c9307",
   "metadata": {},
   "outputs": [
    {
     "data": {
      "text/plain": [
       "MultinomialNB()"
      ]
     },
     "execution_count": 18,
     "metadata": {},
     "output_type": "execute_result"
    }
   ],
   "source": [
    "from sklearn.naive_bayes import MultinomialNB\n",
    "model = MultinomialNB()\n",
    "model.fit(x_train_count, y_train)"
   ]
  },
  {
   "cell_type": "code",
   "execution_count": 22,
   "id": "203ce90e",
   "metadata": {},
   "outputs": [],
   "source": [
    "emails = [\n",
    "    'Hi, Rajan how are you. I hope you are doing well although it is hard time for you.',\n",
    "    'Hurry up  , there is 50% discount offer on the Machine learning course , Dont miss this reward'\n",
    "]"
   ]
  },
  {
   "cell_type": "code",
   "execution_count": 23,
   "id": "3bf76029",
   "metadata": {
    "scrolled": true
   },
   "outputs": [
    {
     "data": {
      "text/plain": [
       "array([0, 1], dtype=int64)"
      ]
     },
     "execution_count": 23,
     "metadata": {},
     "output_type": "execute_result"
    }
   ],
   "source": [
    "emails_count = v.transform(emails)\n",
    "model.predict(emails_count)"
   ]
  },
  {
   "cell_type": "code",
   "execution_count": 24,
   "id": "e510914e",
   "metadata": {},
   "outputs": [
    {
     "data": {
      "text/plain": [
       "0.9849246231155779"
      ]
     },
     "execution_count": 24,
     "metadata": {},
     "output_type": "execute_result"
    }
   ],
   "source": [
    "x_test_count = v.transform(x_test)\n",
    "model.score(x_test_count , y_test)"
   ]
  },
  {
   "cell_type": "code",
   "execution_count": 25,
   "id": "5c2b35b5",
   "metadata": {},
   "outputs": [],
   "source": [
    "from sklearn.pipeline import Pipeline\n",
    "clf = Pipeline([\n",
    "    ('vectorizer' , CountVectorizer()),\n",
    "    ('nb', MultinomialNB())\n",
    "    \n",
    "])\n"
   ]
  },
  {
   "cell_type": "code",
   "execution_count": 26,
   "id": "02ffcf94",
   "metadata": {
    "scrolled": true
   },
   "outputs": [
    {
     "data": {
      "text/plain": [
       "Pipeline(steps=[('vectorizer', CountVectorizer()), ('nb', MultinomialNB())])"
      ]
     },
     "execution_count": 26,
     "metadata": {},
     "output_type": "execute_result"
    }
   ],
   "source": [
    "clf.fit(x_train, y_train)"
   ]
  },
  {
   "cell_type": "code",
   "execution_count": 27,
   "id": "f8dc132d",
   "metadata": {},
   "outputs": [
    {
     "data": {
      "text/plain": [
       "0.9849246231155779"
      ]
     },
     "execution_count": 27,
     "metadata": {},
     "output_type": "execute_result"
    }
   ],
   "source": [
    "clf.score(x_test , y_test)"
   ]
  },
  {
   "cell_type": "code",
   "execution_count": 28,
   "id": "f5b166b2",
   "metadata": {},
   "outputs": [
    {
     "data": {
      "text/plain": [
       "array([0, 1], dtype=int64)"
      ]
     },
     "execution_count": 28,
     "metadata": {},
     "output_type": "execute_result"
    }
   ],
   "source": [
    "clf.predict(emails)"
   ]
  },
  {
   "cell_type": "code",
   "execution_count": 29,
   "id": "f0b6ef62",
   "metadata": {},
   "outputs": [
    {
     "data": {
      "text/plain": [
       "5038                         (You didn't hear it from me)\n",
       "4561                             I'm awake oh. What's up.\n",
       "1316    Whenevr ur sad, Whenevr ur gray, Remembr im he...\n",
       "1827    Dude. What's up. How Teresa. Hope you have bee...\n",
       "3570                      She's fine. Sends her greetings\n",
       "                              ...                        \n",
       "123     Todays Voda numbers ending 7548 are selected t...\n",
       "1438    Wat so late still early mah. Or we juz go 4 di...\n",
       "1136                      K do I need a login or anything\n",
       "449            LOL ... Have you made plans for new years?\n",
       "2416    Huh means computational science... Y they like...\n",
       "Name: Message, Length: 4179, dtype: object"
      ]
     },
     "execution_count": 29,
     "metadata": {},
     "output_type": "execute_result"
    }
   ],
   "source": []
  }
 ],
 "metadata": {
  "kernelspec": {
   "display_name": "Python 3 (ipykernel)",
   "language": "python",
   "name": "python3"
  },
  "language_info": {
   "codemirror_mode": {
    "name": "ipython",
    "version": 3
   },
   "file_extension": ".py",
   "mimetype": "text/x-python",
   "name": "python",
   "nbconvert_exporter": "python",
   "pygments_lexer": "ipython3",
   "version": "3.9.12"
  }
 },
 "nbformat": 4,
 "nbformat_minor": 5
}
